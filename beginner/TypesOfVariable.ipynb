{
  "nbformat": 4,
  "nbformat_minor": 0,
  "metadata": {
    "colab": {
      "provenance": [],
      "authorship_tag": "ABX9TyMHBKeyRNmSI/T+PQjr9ATA",
      "include_colab_link": true
    },
    "kernelspec": {
      "name": "python3",
      "display_name": "Python 3"
    },
    "language_info": {
      "name": "python"
    }
  },
  "cells": [
    {
      "cell_type": "markdown",
      "metadata": {
        "id": "view-in-github",
        "colab_type": "text"
      },
      "source": [
        "<a href=\"https://colab.research.google.com/github/infotovikas/Learn-Python/blob/main/beginner/TypesOfVariable.ipynb\" target=\"_parent\"><img src=\"https://colab.research.google.com/assets/colab-badge.svg\" alt=\"Open In Colab\"/></a>"
      ]
    },
    {
      "cell_type": "code",
      "execution_count": 4,
      "metadata": {
        "colab": {
          "base_uri": "https://localhost:8080/"
        },
        "id": "zxFerU5OEmaF",
        "outputId": "5aabd6aa-f12f-4c3b-a544-a8de7f5d453e"
      },
      "outputs": [
        {
          "output_type": "stream",
          "name": "stdout",
          "text": [
            "Integer Variable:\n",
            "Value: 25\n",
            "Type: <class 'int'>\n"
          ]
        }
      ],
      "source": [
        "# Integer variable\n",
        "age = 25\n",
        "print(\"Integer Variable:\")\n",
        "print(\"Value:\", age)\n",
        "print(\"Type:\", type(age))\n"
      ]
    },
    {
      "cell_type": "code",
      "source": [
        "# Float variable\n",
        "height = 5.9\n",
        "print(\"Float Variable:\")\n",
        "print(\"Value:\", height)\n",
        "print(\"Type:\", type(height))\n"
      ],
      "metadata": {
        "colab": {
          "base_uri": "https://localhost:8080/"
        },
        "id": "hmdC3hS1FK8W",
        "outputId": "4e91a06d-a524-44e1-ef24-427730d6bc97"
      },
      "execution_count": 3,
      "outputs": [
        {
          "output_type": "stream",
          "name": "stdout",
          "text": [
            "Float Variable:\n",
            "Value: 5.9\n",
            "Type: <class 'float'>\n"
          ]
        }
      ]
    },
    {
      "cell_type": "code",
      "source": [
        "# String variable\n",
        "name = \"Vikas Singh\"\n",
        "print(\"String Variable:\")\n",
        "print(\"Value:\", name)\n",
        "print(\"Type:\", type(name))\n"
      ],
      "metadata": {
        "colab": {
          "base_uri": "https://localhost:8080/"
        },
        "id": "PDDae1l0FOOH",
        "outputId": "6c056de3-3539-4117-ff06-1335272ad5c4"
      },
      "execution_count": 5,
      "outputs": [
        {
          "output_type": "stream",
          "name": "stdout",
          "text": [
            "String Variable:\n",
            "Value: Vikas Singh\n",
            "Type: <class 'str'>\n"
          ]
        }
      ]
    },
    {
      "cell_type": "code",
      "source": [
        "# Boolean variable\n",
        "is_active = True\n",
        "print(\"Boolean Variable:\")\n",
        "print(\"Value:\", is_active)\n",
        "print(\"Type:\", type(is_active))\n"
      ],
      "metadata": {
        "colab": {
          "base_uri": "https://localhost:8080/"
        },
        "id": "jqRNM8oJFTTz",
        "outputId": "7d1d395f-7616-4774-be64-af312d3a1bb8"
      },
      "execution_count": 6,
      "outputs": [
        {
          "output_type": "stream",
          "name": "stdout",
          "text": [
            "Boolean Variable:\n",
            "Value: True\n",
            "Type: <class 'bool'>\n"
          ]
        }
      ]
    },
    {
      "cell_type": "code",
      "source": [
        "# Complex number variable\n",
        "complex_num = 2 + 3j\n",
        "print(\"Complex Number Variable:\")\n",
        "print(\"Value:\", complex_num)\n",
        "print(\"Type:\", type(complex_num))\n"
      ],
      "metadata": {
        "colab": {
          "base_uri": "https://localhost:8080/"
        },
        "id": "M_DvPKwUFXmT",
        "outputId": "ae384c33-53af-4b9a-e294-aefb941b68e1"
      },
      "execution_count": 7,
      "outputs": [
        {
          "output_type": "stream",
          "name": "stdout",
          "text": [
            "Complex Number Variable:\n",
            "Value: (2+3j)\n",
            "Type: <class 'complex'>\n"
          ]
        }
      ]
    },
    {
      "cell_type": "code",
      "source": [
        "# List variable\n",
        "fruits = [\"apple\", \"banana\", \"cherry\"]\n",
        "print(\"List Variable:\")\n",
        "print(\"Value:\", fruits)\n",
        "print(\"Type:\", type(fruits))\n"
      ],
      "metadata": {
        "colab": {
          "base_uri": "https://localhost:8080/"
        },
        "id": "USel-ASoFamo",
        "outputId": "f6b0e838-4bcf-43bb-9d7f-14e530c4c674"
      },
      "execution_count": 8,
      "outputs": [
        {
          "output_type": "stream",
          "name": "stdout",
          "text": [
            "List Variable:\n",
            "Value: ['apple', 'banana', 'cherry']\n",
            "Type: <class 'list'>\n"
          ]
        }
      ]
    },
    {
      "cell_type": "code",
      "source": [
        "\n",
        "# Tuple variable\n",
        "coordinates = (10, 20)\n",
        "print(\"Tuple Variable:\")\n",
        "print(\"Value:\", coordinates)\n",
        "print(\"Type:\", type(coordinates))\n"
      ],
      "metadata": {
        "colab": {
          "base_uri": "https://localhost:8080/"
        },
        "id": "cxXaHfqRFego",
        "outputId": "ef563f4d-7e97-4db1-aa29-80995b8654db"
      },
      "execution_count": 9,
      "outputs": [
        {
          "output_type": "stream",
          "name": "stdout",
          "text": [
            "Tuple Variable:\n",
            "Value: (10, 20)\n",
            "Type: <class 'tuple'>\n"
          ]
        }
      ]
    },
    {
      "cell_type": "code",
      "source": [
        "# Set variable\n",
        "unique_numbers = {1, 2, 3, 4, 5}\n",
        "print(\"Set Variable:\")\n",
        "print(\"Value:\", unique_numbers)\n",
        "print(\"Type:\", type(unique_numbers))\n"
      ],
      "metadata": {
        "colab": {
          "base_uri": "https://localhost:8080/"
        },
        "id": "BqjXd4o3FhR9",
        "outputId": "9466c513-6b14-4abd-e685-aa6173d1f354"
      },
      "execution_count": 10,
      "outputs": [
        {
          "output_type": "stream",
          "name": "stdout",
          "text": [
            "Set Variable:\n",
            "Value: {1, 2, 3, 4, 5}\n",
            "Type: <class 'set'>\n"
          ]
        }
      ]
    },
    {
      "cell_type": "code",
      "source": [
        "# Dictionary variable\n",
        "person = {\"name\": \"Vikas\", \"age\": 25, \"city\": \"Azamgarh\"}\n",
        "print(\"Dictionary Variable:\")\n",
        "print(\"Value:\", person)\n",
        "print(\"Type:\", type(person))\n"
      ],
      "metadata": {
        "colab": {
          "base_uri": "https://localhost:8080/"
        },
        "id": "X4Q-VRMCFml6",
        "outputId": "8b705d29-313d-474b-8af5-f43f028c0d98"
      },
      "execution_count": 11,
      "outputs": [
        {
          "output_type": "stream",
          "name": "stdout",
          "text": [
            "Dictionary Variable:\n",
            "Value: {'name': 'Vikas', 'age': 25, 'city': 'Azamgarh'}\n",
            "Type: <class 'dict'>\n"
          ]
        }
      ]
    }
  ]
}
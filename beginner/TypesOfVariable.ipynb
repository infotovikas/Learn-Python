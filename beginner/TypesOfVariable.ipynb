{
  "nbformat": 4,
  "nbformat_minor": 0,
  "metadata": {
    "colab": {
      "provenance": []
    },
    "kernelspec": {
      "name": "python3",
      "display_name": "Python 3"
    },
    "language_info": {
      "name": "python"
    }
  },
  "cells": [
    {
      "cell_type": "code",
      "execution_count": null,
      "metadata": {
        "colab": {
          "base_uri": "https://localhost:8080/"
        },
        "id": "zxFerU5OEmaF",
        "outputId": "fea9b152-3817-4621-90f9-635b03379af1"
      },
      "outputs": [
        {
          "output_type": "stream",
          "name": "stdout",
          "text": [
            "Integer Variable:\n",
            "Value: 25\n",
            "Type: <class 'int'>\n",
            "\n"
          ]
        }
      ],
      "source": [
        "# Integer variable\n",
        "age = 25\n",
        "print(\"Integer Variable:\")\n",
        "print(\"Value:\", age)\n",
        "print(\"Type:\", type(age))\n",
        "print()"
      ]
    },
    {
      "cell_type": "code",
      "source": [
        "# Float variable\n",
        "height = 5.9\n",
        "print(\"Float Variable:\")\n",
        "print(\"Value:\", height)\n",
        "print(\"Type:\", type(height))\n",
        "print()"
      ],
      "metadata": {
        "id": "hmdC3hS1FK8W"
      },
      "execution_count": null,
      "outputs": []
    },
    {
      "cell_type": "code",
      "source": [
        "# String variable\n",
        "name = \"Vikas Singh\"\n",
        "print(\"String Variable:\")\n",
        "print(\"Value:\", name)\n",
        "print(\"Type:\", type(name))\n",
        "print()"
      ],
      "metadata": {
        "id": "PDDae1l0FOOH"
      },
      "execution_count": null,
      "outputs": []
    },
    {
      "cell_type": "code",
      "source": [
        "# Boolean variable\n",
        "is_active = True\n",
        "print(\"Boolean Variable:\")\n",
        "print(\"Value:\", is_active)\n",
        "print(\"Type:\", type(is_active))\n",
        "print()"
      ],
      "metadata": {
        "id": "jqRNM8oJFTTz"
      },
      "execution_count": null,
      "outputs": []
    },
    {
      "cell_type": "code",
      "source": [
        "# Complex number variable\n",
        "complex_num = 2 + 3j\n",
        "print(\"Complex Number Variable:\")\n",
        "print(\"Value:\", complex_num)\n",
        "print(\"Type:\", type(complex_num))\n",
        "print()"
      ],
      "metadata": {
        "id": "M_DvPKwUFXmT"
      },
      "execution_count": null,
      "outputs": []
    },
    {
      "cell_type": "code",
      "source": [
        "# List variable\n",
        "fruits = [\"apple\", \"banana\", \"cherry\"]\n",
        "print(\"List Variable:\")\n",
        "print(\"Value:\", fruits)\n",
        "print(\"Type:\", type(fruits))\n",
        "print()"
      ],
      "metadata": {
        "id": "USel-ASoFamo"
      },
      "execution_count": null,
      "outputs": []
    },
    {
      "cell_type": "code",
      "source": [
        "\n",
        "# Tuple variable\n",
        "coordinates = (10, 20)\n",
        "print(\"Tuple Variable:\")\n",
        "print(\"Value:\", coordinates)\n",
        "print(\"Type:\", type(coordinates))\n",
        "print()"
      ],
      "metadata": {
        "id": "cxXaHfqRFego"
      },
      "execution_count": null,
      "outputs": []
    },
    {
      "cell_type": "code",
      "source": [
        "# Set variable\n",
        "unique_numbers = {1, 2, 3, 4, 5}\n",
        "print(\"Set Variable:\")\n",
        "print(\"Value:\", unique_numbers)\n",
        "print(\"Type:\", type(unique_numbers))\n",
        "print()"
      ],
      "metadata": {
        "id": "BqjXd4o3FhR9"
      },
      "execution_count": null,
      "outputs": []
    },
    {
      "cell_type": "code",
      "source": [
        "# Dictionary variable\n",
        "person = {\"name\": \"Vikas\", \"age\": 25, \"city\": \"Azamgarh\"}\n",
        "print(\"Dictionary Variable:\")\n",
        "print(\"Value:\", person)\n",
        "print(\"Type:\", type(person))\n",
        "print()"
      ],
      "metadata": {
        "id": "X4Q-VRMCFml6"
      },
      "execution_count": null,
      "outputs": []
    }
  ]
}
{
  "nbformat": 4,
  "nbformat_minor": 0,
  "metadata": {
    "colab": {
      "provenance": [],
      "authorship_tag": "ABX9TyMKbn9belObZEkgMdvR6wjR",
      "include_colab_link": true
    },
    "kernelspec": {
      "name": "python3",
      "display_name": "Python 3"
    },
    "language_info": {
      "name": "python"
    }
  },
  "cells": [
    {
      "cell_type": "markdown",
      "metadata": {
        "id": "view-in-github",
        "colab_type": "text"
      },
      "source": [
        "<a href=\"https://colab.research.google.com/github/infotovikas/Learn-Python/blob/main/beginner/for_loops.ipynb\" target=\"_parent\"><img src=\"https://colab.research.google.com/assets/colab-badge.svg\" alt=\"Open In Colab\"/></a>"
      ]
    },
    {
      "cell_type": "markdown",
      "source": [
        "**For Loop Examples**"
      ],
      "metadata": {
        "id": "yi9N_shG3xna"
      }
    },
    {
      "cell_type": "markdown",
      "source": [
        "**Example 1: Iterating Over a List**"
      ],
      "metadata": {
        "id": "yrnmxpO330-w"
      }
    },
    {
      "cell_type": "code",
      "execution_count": 1,
      "metadata": {
        "colab": {
          "base_uri": "https://localhost:8080/"
        },
        "id": "lcrAd7bs3iBW",
        "outputId": "3101976d-8575-431d-c581-dfd57d04b7b3"
      },
      "outputs": [
        {
          "output_type": "stream",
          "name": "stdout",
          "text": [
            "I love apple!\n",
            "I love banana!\n",
            "I love cherry!\n",
            "I love date!\n"
          ]
        }
      ],
      "source": [
        "# For loop to iterate through a list of fruits\n",
        "fruits = [\"apple\", \"banana\", \"cherry\", \"date\"]\n",
        "for fruit in fruits:\n",
        "    print(f\"I love {fruit}!\")\n"
      ]
    },
    {
      "cell_type": "markdown",
      "source": [
        "**Example 2: Using Range**"
      ],
      "metadata": {
        "id": "vD096Yl_4NSB"
      }
    },
    {
      "cell_type": "code",
      "source": [
        "# Print numbers from 0 to 9\n",
        "for i in range(10):\n",
        "    print(f\"Number: {i}\")\n",
        "\n",
        "# Print even numbers between 2 and 20\n",
        "for i in range(2, 21, 2):\n",
        "    print(f\"Even number: {i}\")\n"
      ],
      "metadata": {
        "colab": {
          "base_uri": "https://localhost:8080/"
        },
        "id": "yKCWB6LS4RiI",
        "outputId": "1266964c-f39c-4d5c-86aa-e9e80cfb8caa"
      },
      "execution_count": 2,
      "outputs": [
        {
          "output_type": "stream",
          "name": "stdout",
          "text": [
            "Number: 0\n",
            "Number: 1\n",
            "Number: 2\n",
            "Number: 3\n",
            "Number: 4\n",
            "Number: 5\n",
            "Number: 6\n",
            "Number: 7\n",
            "Number: 8\n",
            "Number: 9\n",
            "Even number: 2\n",
            "Even number: 4\n",
            "Even number: 6\n",
            "Even number: 8\n",
            "Even number: 10\n",
            "Even number: 12\n",
            "Even number: 14\n",
            "Even number: 16\n",
            "Even number: 18\n",
            "Even number: 20\n"
          ]
        }
      ]
    },
    {
      "cell_type": "markdown",
      "source": [
        "**Example 3: Nested For Loops**"
      ],
      "metadata": {
        "id": "cmqqEdjG4vVo"
      }
    },
    {
      "cell_type": "code",
      "source": [
        "# Print a multiplication table\n",
        "for i in range(1, 6):  # Outer loop for rows\n",
        "    for j in range(1, 6):  # Inner loop for columns\n",
        "        print(f\"{i * j:2}\", end=\" \")  # Print product with formatting\n",
        "    print()  # Newline after each row\n"
      ],
      "metadata": {
        "colab": {
          "base_uri": "https://localhost:8080/"
        },
        "id": "ALe1GRwC4yQB",
        "outputId": "29f24557-9a1a-477e-86e2-ba7ce93b5c05"
      },
      "execution_count": 3,
      "outputs": [
        {
          "output_type": "stream",
          "name": "stdout",
          "text": [
            " 1  2  3  4  5 \n",
            " 2  4  6  8 10 \n",
            " 3  6  9 12 15 \n",
            " 4  8 12 16 20 \n",
            " 5 10 15 20 25 \n"
          ]
        }
      ]
    },
    {
      "cell_type": "markdown",
      "source": [
        "**Example 4: Iterating Over a Dictionary**"
      ],
      "metadata": {
        "id": "luZp1mdU5iWs"
      }
    },
    {
      "cell_type": "code",
      "source": [
        "# Iterating over key-value pairs in a dictionary\n",
        "student_scores = {\"Alice\": 85, \"Bob\": 90, \"Charlie\": 78}\n",
        "\n",
        "for student, score in student_scores.items():\n",
        "    print(f\"{student} scored {score} points.\")\n"
      ],
      "metadata": {
        "colab": {
          "base_uri": "https://localhost:8080/"
        },
        "id": "dxizKCmO5kTb",
        "outputId": "fbb8db08-41cf-41c9-bf1c-1daf06eab8bb"
      },
      "execution_count": 4,
      "outputs": [
        {
          "output_type": "stream",
          "name": "stdout",
          "text": [
            "Alice scored 85 points.\n",
            "Bob scored 90 points.\n",
            "Charlie scored 78 points.\n"
          ]
        }
      ]
    },
    {
      "cell_type": "markdown",
      "source": [
        "**Example 5: Using Break and Continue**"
      ],
      "metadata": {
        "id": "xF1GCBoW-VMr"
      }
    },
    {
      "cell_type": "code",
      "source": [
        "# Example with break\n",
        "for i in range(10):\n",
        "    if i == 5:\n",
        "        print(\"Breaking at\", i)\n",
        "        break\n",
        "    print(i)\n",
        "\n",
        "# Example with continue\n",
        "for i in range(10):\n",
        "    if i % 2 == 0:\n",
        "        continue\n",
        "    print(f\"Odd number: {i}\")\n"
      ],
      "metadata": {
        "colab": {
          "base_uri": "https://localhost:8080/"
        },
        "id": "zV_nGmIv-YW3",
        "outputId": "b65f0b20-d79c-4ee1-dcf0-0a13a65bf55a"
      },
      "execution_count": 5,
      "outputs": [
        {
          "output_type": "stream",
          "name": "stdout",
          "text": [
            "0\n",
            "1\n",
            "2\n",
            "3\n",
            "4\n",
            "Breaking at 5\n",
            "Odd number: 1\n",
            "Odd number: 3\n",
            "Odd number: 5\n",
            "Odd number: 7\n",
            "Odd number: 9\n"
          ]
        }
      ]
    },
    {
      "cell_type": "markdown",
      "source": [
        "**For Loop with Else**"
      ],
      "metadata": {
        "id": "_JPVvwK6_R_H"
      }
    },
    {
      "cell_type": "code",
      "source": [
        "# For loop with an else block\n",
        "for i in range(5):\n",
        "    print(i)\n",
        "else:\n",
        "    print(\"Loop completed without a break!\")\n"
      ],
      "metadata": {
        "colab": {
          "base_uri": "https://localhost:8080/"
        },
        "id": "szmEEhyx_WlI",
        "outputId": "9c05152e-625e-421a-e815-4050893e85ae"
      },
      "execution_count": 6,
      "outputs": [
        {
          "output_type": "stream",
          "name": "stdout",
          "text": [
            "0\n",
            "1\n",
            "2\n",
            "3\n",
            "4\n",
            "Loop completed without a break!\n"
          ]
        }
      ]
    }
  ]
}
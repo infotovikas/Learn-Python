{
  "nbformat": 4,
  "nbformat_minor": 0,
  "metadata": {
    "colab": {
      "provenance": [],
      "authorship_tag": "ABX9TyOYRg6u4hi0pCTsYtY5jk0z",
      "include_colab_link": true
    },
    "kernelspec": {
      "name": "python3",
      "display_name": "Python 3"
    },
    "language_info": {
      "name": "python"
    }
  },
  "cells": [
    {
      "cell_type": "markdown",
      "metadata": {
        "id": "view-in-github",
        "colab_type": "text"
      },
      "source": [
        "<a href=\"https://colab.research.google.com/github/infotovikas/Learn-Python/blob/main/beginner/Working_with_Operators.ipynb\" target=\"_parent\"><img src=\"https://colab.research.google.com/assets/colab-badge.svg\" alt=\"Open In Colab\"/></a>"
      ]
    },
    {
      "cell_type": "markdown",
      "source": [
        "**1. Arithmetic Operators**"
      ],
      "metadata": {
        "id": "kvtlB9dFAJHo"
      }
    },
    {
      "cell_type": "code",
      "execution_count": 1,
      "metadata": {
        "colab": {
          "base_uri": "https://localhost:8080/"
        },
        "id": "mPoX3Eo1AEGc",
        "outputId": "d8f951b9-00b3-4e18-e3d3-f22519a0ac74"
      },
      "outputs": [
        {
          "output_type": "stream",
          "name": "stdout",
          "text": [
            "Addition: 13\n",
            "Subtraction: 7\n",
            "Multiplication: 30\n",
            "Division: 3.3333333333333335\n",
            "Modulus: 1\n",
            "Exponentiation: 1000\n",
            "Floor Division: 3\n"
          ]
        }
      ],
      "source": [
        "# Arithmetic Operators\n",
        "a = 10\n",
        "b = 3\n",
        "\n",
        "print(\"Addition:\", a + b)\n",
        "print(\"Subtraction:\", a - b)\n",
        "print(\"Multiplication:\", a * b)\n",
        "print(\"Division:\", a / b)\n",
        "print(\"Modulus:\", a % b)\n",
        "print(\"Exponentiation:\", a ** b)\n",
        "print(\"Floor Division:\", a // b)\n"
      ]
    },
    {
      "cell_type": "markdown",
      "source": [
        "**2. Comparison Operators**"
      ],
      "metadata": {
        "id": "NoyXoq7dAa9b"
      }
    },
    {
      "cell_type": "code",
      "source": [
        "# Comparison Operators\n",
        "x = 15\n",
        "y = 10\n",
        "\n",
        "print(\"x > y:\", x > y)\n",
        "print(\"x < y:\", x < y)\n",
        "print(\"x == y:\", x == y)\n",
        "print(\"x != y:\", x != y)\n",
        "print(\"x >= y:\", x >= y)\n",
        "print(\"x <= y:\", x <= y)\n"
      ],
      "metadata": {
        "colab": {
          "base_uri": "https://localhost:8080/"
        },
        "id": "EvKaNUImAoYl",
        "outputId": "8946816a-47f0-4387-edf6-8c5b60de70e4"
      },
      "execution_count": 2,
      "outputs": [
        {
          "output_type": "stream",
          "name": "stdout",
          "text": [
            "x > y: True\n",
            "x < y: False\n",
            "x == y: False\n",
            "x != y: True\n",
            "x >= y: True\n",
            "x <= y: False\n"
          ]
        }
      ]
    },
    {
      "cell_type": "markdown",
      "source": [
        "**3. Logical Operators**"
      ],
      "metadata": {
        "id": "Ml-EziJEAvbJ"
      }
    },
    {
      "cell_type": "code",
      "source": [
        "# Logical Operators\n",
        "a = True\n",
        "b = False\n",
        "\n",
        "print(\"a and b:\", a and b)  # Logical AND\n",
        "print(\"a or b:\", a or b)    # Logical OR\n",
        "print(\"not a:\", not a)      # Logical NOT\n"
      ],
      "metadata": {
        "colab": {
          "base_uri": "https://localhost:8080/"
        },
        "id": "Em80LokAA2GZ",
        "outputId": "d24a31c7-7d9a-4a4c-dfbd-72e332108c2e"
      },
      "execution_count": 3,
      "outputs": [
        {
          "output_type": "stream",
          "name": "stdout",
          "text": [
            "a and b: False\n",
            "a or b: True\n",
            "not a: False\n"
          ]
        }
      ]
    },
    {
      "cell_type": "markdown",
      "source": [
        "**4. Bitwise Operators**"
      ],
      "metadata": {
        "id": "fIoyqqFTBAOR"
      }
    },
    {
      "cell_type": "code",
      "source": [
        "# Bitwise Operators\n",
        "a = 5  # Binary: 0101\n",
        "b = 3  # Binary: 0011\n",
        "\n",
        "print(\"Bitwise AND (a & b):\", a & b)  # 0101 & 0011 = 0001\n",
        "print(\"Bitwise OR (a | b):\", a | b)   # 0101 | 0011 = 0111\n",
        "print(\"Bitwise XOR (a ^ b):\", a ^ b)  # 0101 ^ 0011 = 0110\n",
        "print(\"Bitwise NOT (~a):\", ~a)        # NOT 0101 = -0110\n",
        "print(\"Left Shift (a << 1):\", a << 1) # 0101 << 1 = 1010\n",
        "print(\"Right Shift (a >> 1):\", a >> 1) # 0101 >> 1 = 0010\n"
      ],
      "metadata": {
        "colab": {
          "base_uri": "https://localhost:8080/"
        },
        "id": "Uvrv4dnfBG3W",
        "outputId": "7bea093a-069a-4812-9f48-1bedb1e3237c"
      },
      "execution_count": 4,
      "outputs": [
        {
          "output_type": "stream",
          "name": "stdout",
          "text": [
            "Bitwise AND (a & b): 1\n",
            "Bitwise OR (a | b): 7\n",
            "Bitwise XOR (a ^ b): 6\n",
            "Bitwise NOT (~a): -6\n",
            "Left Shift (a << 1): 10\n",
            "Right Shift (a >> 1): 2\n"
          ]
        }
      ]
    },
    {
      "cell_type": "markdown",
      "source": [
        "**5. Assignment Operators**"
      ],
      "metadata": {
        "id": "ZblQBlHPBaPX"
      }
    },
    {
      "cell_type": "code",
      "source": [
        "# Assignment Operators\n",
        "x = 10\n",
        "print(\"Initial value:\", x)\n",
        "\n",
        "x += 5  # Add and assign\n",
        "print(\"After x += 5:\", x)\n",
        "\n",
        "x -= 3  # Subtract and assign\n",
        "print(\"After x -= 3:\", x)\n",
        "\n",
        "x *= 2  # Multiply and assign\n",
        "print(\"After x *= 2:\", x)\n",
        "\n",
        "x /= 4  # Divide and assign\n",
        "print(\"After x /= 4:\", x)\n",
        "\n",
        "x %= 3  # Modulus and assign\n",
        "print(\"After x %= 3:\", x)\n"
      ],
      "metadata": {
        "colab": {
          "base_uri": "https://localhost:8080/"
        },
        "id": "laGrf1IEBiwN",
        "outputId": "9189a757-9465-4c9d-c582-08c6f8d0de80"
      },
      "execution_count": 5,
      "outputs": [
        {
          "output_type": "stream",
          "name": "stdout",
          "text": [
            "Initial value: 10\n",
            "After x += 5: 15\n",
            "After x -= 3: 12\n",
            "After x *= 2: 24\n",
            "After x /= 4: 6.0\n",
            "After x %= 3: 0.0\n"
          ]
        }
      ]
    },
    {
      "cell_type": "markdown",
      "source": [
        "**6. Membership Operators**"
      ],
      "metadata": {
        "id": "_pe9Xns_Bydv"
      }
    },
    {
      "cell_type": "code",
      "source": [
        "# Membership Operators\n",
        "my_list = [1, 2, 3, 4, 5]\n",
        "\n",
        "print(\"Is 3 in the list?\", 7 in my_list)\n",
        "print(\"Is 10 not in the list?\", 10 not in my_list)\n"
      ],
      "metadata": {
        "colab": {
          "base_uri": "https://localhost:8080/"
        },
        "id": "hLbWEvNYC7sk",
        "outputId": "da3d345c-749f-4d80-99f7-07beacc0d2ad"
      },
      "execution_count": 7,
      "outputs": [
        {
          "output_type": "stream",
          "name": "stdout",
          "text": [
            "Is 3 in the list? False\n",
            "Is 10 not in the list? True\n"
          ]
        }
      ]
    },
    {
      "cell_type": "markdown",
      "source": [
        "**7. Identity Operators**"
      ],
      "metadata": {
        "id": "ShJQAyRdDJlH"
      }
    },
    {
      "cell_type": "code",
      "source": [
        "# Identity Operators\n",
        "a = 10\n",
        "b = 10\n",
        "c = [1, 2, 3]\n",
        "d = [1, 2, 3]\n",
        "\n",
        "print(\"a is b:\", a is b)       # True, same object\n",
        "print(\"c is d:\", c is d)       # False, different objects\n",
        "print(\"c is not d:\", c is not d) # True, different objects\n"
      ],
      "metadata": {
        "colab": {
          "base_uri": "https://localhost:8080/"
        },
        "id": "0eOEdcBPDMar",
        "outputId": "1dd0ba59-7fe1-4d3b-fda8-408785aab552"
      },
      "execution_count": 8,
      "outputs": [
        {
          "output_type": "stream",
          "name": "stdout",
          "text": [
            "a is b: True\n",
            "c is d: False\n",
            "c is not d: True\n"
          ]
        }
      ]
    },
    {
      "cell_type": "markdown",
      "source": [
        "**8. Ternary Operator (Conditional Expression)**"
      ],
      "metadata": {
        "id": "8N6LdgBkDhk1"
      }
    },
    {
      "cell_type": "code",
      "source": [
        "# Ternary Operator\n",
        "a = 20\n",
        "b = 15\n",
        "\n",
        "max_value = a if a > b else b\n",
        "print(\"The greater value is:\", max_value)\n"
      ],
      "metadata": {
        "colab": {
          "base_uri": "https://localhost:8080/"
        },
        "id": "_1al17ryDjiU",
        "outputId": "40204c6f-d44b-4974-91d6-aae8de3713d2"
      },
      "execution_count": 9,
      "outputs": [
        {
          "output_type": "stream",
          "name": "stdout",
          "text": [
            "The greater value is: 20\n"
          ]
        }
      ]
    },
    {
      "cell_type": "markdown",
      "source": [
        "**9. Chained Comparison Operators**"
      ],
      "metadata": {
        "id": "ov5sa-37DxfO"
      }
    },
    {
      "cell_type": "code",
      "source": [
        "# Chained Comparison\n",
        "x = 10\n",
        "\n",
        "print(\"5 < x < 15:\", 5 < x < 15)  # True\n",
        "print(\"5 < x > 15:\", 5 < x > 15)  # False\n"
      ],
      "metadata": {
        "colab": {
          "base_uri": "https://localhost:8080/"
        },
        "id": "hbW9F-iMD7X8",
        "outputId": "c55af879-1e39-4514-e2d1-817d27bd64c9"
      },
      "execution_count": 10,
      "outputs": [
        {
          "output_type": "stream",
          "name": "stdout",
          "text": [
            "5 < x < 15: True\n",
            "5 < x > 15: False\n"
          ]
        }
      ]
    },
    {
      "cell_type": "markdown",
      "source": [
        "**10. Operator Precedence Example**"
      ],
      "metadata": {
        "id": "Pp2-cldHEFLA"
      }
    },
    {
      "cell_type": "code",
      "source": [
        "# Operator Precedence\n",
        "result = 10 + 5 * 2 - 3 ** 2 / 2\n",
        "print(\"Result of the expression:\", result)\n"
      ],
      "metadata": {
        "colab": {
          "base_uri": "https://localhost:8080/"
        },
        "id": "jkA8GMwzEHLZ",
        "outputId": "a6e71986-210c-468c-d97d-74f2f42fb732"
      },
      "execution_count": 11,
      "outputs": [
        {
          "output_type": "stream",
          "name": "stdout",
          "text": [
            "Result of the expression: 15.5\n"
          ]
        }
      ]
    }
  ]
}
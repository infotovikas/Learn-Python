{
  "nbformat": 4,
  "nbformat_minor": 0,
  "metadata": {
    "colab": {
      "provenance": [],
      "authorship_tag": "ABX9TyNaQklkGk+vP4AJ99E1TUl/",
      "include_colab_link": true
    },
    "kernelspec": {
      "name": "python3",
      "display_name": "Python 3"
    },
    "language_info": {
      "name": "python"
    }
  },
  "cells": [
    {
      "cell_type": "markdown",
      "metadata": {
        "id": "view-in-github",
        "colab_type": "text"
      },
      "source": [
        "<a href=\"https://colab.research.google.com/github/infotovikas/Learn-Python/blob/main/beginner/Working_with_Variables.ipynb\" target=\"_parent\"><img src=\"https://colab.research.google.com/assets/colab-badge.svg\" alt=\"Open In Colab\"/></a>"
      ]
    },
    {
      "cell_type": "markdown",
      "source": [
        "**1. Assigning and Printing Variables**"
      ],
      "metadata": {
        "id": "ZBmpafJns5JQ"
      }
    },
    {
      "cell_type": "code",
      "execution_count": 2,
      "metadata": {
        "colab": {
          "base_uri": "https://localhost:8080/"
        },
        "id": "LJQG4iXxsMSN",
        "outputId": "5b3bbbd3-835a-4266-9e50-a4ea958f5a12"
      },
      "outputs": [
        {
          "output_type": "stream",
          "name": "stdout",
          "text": [
            "Name: Vikas Singh\n",
            "Age: 30\n",
            "Height: 5.9\n"
          ]
        }
      ],
      "source": [
        "# Assigning values to variables\n",
        "name = \"Vikas Singh\"\n",
        "age = 30\n",
        "height = 5.9\n",
        "\n",
        "# Printing variables\n",
        "print(\"Name:\", name)\n",
        "print(\"Age:\", age)\n",
        "print(\"Height:\", height)\n"
      ]
    },
    {
      "cell_type": "markdown",
      "source": [
        "**2. Multiple Assignments**"
      ],
      "metadata": {
        "id": "LFZehceKs6fB"
      }
    },
    {
      "cell_type": "code",
      "source": [
        "# Assigning multiple variables in one line\n",
        "x, y, z = 10, 20, 30\n",
        "\n",
        "# Printing the values\n",
        "print(\"x:\", x)\n",
        "print(\"y:\", y)\n",
        "print(\"z:\", z)\n"
      ],
      "metadata": {
        "colab": {
          "base_uri": "https://localhost:8080/"
        },
        "id": "CGKnnvkosssm",
        "outputId": "255c09c0-0553-4ac6-9b87-34a6367789bd"
      },
      "execution_count": 3,
      "outputs": [
        {
          "output_type": "stream",
          "name": "stdout",
          "text": [
            "x: 10\n",
            "y: 20\n",
            "z: 30\n"
          ]
        }
      ]
    },
    {
      "cell_type": "code",
      "source": [],
      "metadata": {
        "id": "P7cayfVMsznh"
      },
      "execution_count": null,
      "outputs": []
    },
    {
      "cell_type": "markdown",
      "source": [
        "**3. Reassigning Variables**"
      ],
      "metadata": {
        "id": "QpClKGiNtOcU"
      }
    },
    {
      "cell_type": "code",
      "source": [
        "# Assigning an initial value\n",
        "language = \"Python\"\n",
        "\n",
        "# Reassigning the variable\n",
        "language = \"JavaScript\"\n",
        "\n",
        "print(\"Current Language:\", language)\n"
      ],
      "metadata": {
        "colab": {
          "base_uri": "https://localhost:8080/"
        },
        "id": "Vs030l-xtRyf",
        "outputId": "da5e280c-2a88-4fa2-e7f4-87badce1c886"
      },
      "execution_count": 4,
      "outputs": [
        {
          "output_type": "stream",
          "name": "stdout",
          "text": [
            "Current Language: JavaScript\n"
          ]
        }
      ]
    },
    {
      "cell_type": "markdown",
      "source": [
        "**4. Variable Types**"
      ],
      "metadata": {
        "id": "_GE1g5BrtkS4"
      }
    },
    {
      "cell_type": "code",
      "source": [
        "# Integer\n",
        "count = 100\n",
        "print(\"Count:\", count, \"Type:\", type(count))\n",
        "\n",
        "# Float\n",
        "price = 19.99\n",
        "print(\"Price:\", price, \"Type:\", type(price))\n",
        "\n",
        "# String\n",
        "city = \"Azamgarh\"\n",
        "print(\"City:\", city, \"Type:\", type(city))\n",
        "\n",
        "# Boolean\n",
        "is_available = True\n",
        "print(\"Is Available:\", is_available, \"Type:\", type(is_available))\n"
      ],
      "metadata": {
        "colab": {
          "base_uri": "https://localhost:8080/"
        },
        "id": "TLcUJmT4tp5A",
        "outputId": "5d4e3eba-630c-4f60-9fe9-fd3da077315a"
      },
      "execution_count": 5,
      "outputs": [
        {
          "output_type": "stream",
          "name": "stdout",
          "text": [
            "Count: 100 Type: <class 'int'>\n",
            "Price: 19.99 Type: <class 'float'>\n",
            "City: Azamgarh Type: <class 'str'>\n",
            "Is Available: True Type: <class 'bool'>\n"
          ]
        }
      ]
    },
    {
      "cell_type": "markdown",
      "source": [
        "**5. Using type() and id()**"
      ],
      "metadata": {
        "id": "SelmAhJKtwQm"
      }
    },
    {
      "cell_type": "code",
      "source": [
        "# Define a variable\n",
        "number = 42\n",
        "\n",
        "# Get the type and memory address of the variable\n",
        "print(\"Value:\", number)\n",
        "print(\"Type:\", type(number))\n",
        "print(\"Memory Address (ID):\", id(number))\n"
      ],
      "metadata": {
        "colab": {
          "base_uri": "https://localhost:8080/"
        },
        "id": "H9rvl2q8t1wf",
        "outputId": "892cdf56-4ab7-4a95-fa9f-0acb87d8caa0"
      },
      "execution_count": 6,
      "outputs": [
        {
          "output_type": "stream",
          "name": "stdout",
          "text": [
            "Value: 42\n",
            "Type: <class 'int'>\n",
            "Memory Address (ID): 10752168\n"
          ]
        }
      ]
    },
    {
      "cell_type": "markdown",
      "source": [
        "**6. Variables with Arithmetic Operations**"
      ],
      "metadata": {
        "id": "q47wvfgauWCO"
      }
    },
    {
      "cell_type": "code",
      "source": [
        "# Assign values to variables\n",
        "a = 15\n",
        "b = 5\n",
        "\n",
        "# Perform arithmetic operations\n",
        "sum_result = a + b\n",
        "difference = a - b\n",
        "product = a * b\n",
        "quotient = a / b\n",
        "\n",
        "# Print results\n",
        "print(\"Sum:\", sum_result)\n",
        "print(\"Difference:\", difference)\n",
        "print(\"Product:\", product)\n",
        "print(\"Quotient:\", quotient)\n"
      ],
      "metadata": {
        "colab": {
          "base_uri": "https://localhost:8080/"
        },
        "id": "JbsDIMQ-ubzZ",
        "outputId": "ad3ea27c-5f88-4f78-8255-e8bda4f1ab40"
      },
      "execution_count": 7,
      "outputs": [
        {
          "output_type": "stream",
          "name": "stdout",
          "text": [
            "Sum: 20\n",
            "Difference: 10\n",
            "Product: 75\n",
            "Quotient: 3.0\n"
          ]
        }
      ]
    },
    {
      "cell_type": "markdown",
      "source": [
        "**7. Swapping Variables**"
      ],
      "metadata": {
        "id": "0Y-sNpjrvgbK"
      }
    },
    {
      "cell_type": "code",
      "source": [
        "# Assign initial values\n",
        "a = 10\n",
        "b = 20\n",
        "\n",
        "print(\"Before Swapping:\")\n",
        "print(\"a:\", a, \"b:\", b)\n",
        "\n",
        "# Swap variables\n",
        "a, b = b, a\n",
        "\n",
        "print(\"After Swapping:\")\n",
        "print(\"a:\", a, \"b:\", b)\n"
      ],
      "metadata": {
        "colab": {
          "base_uri": "https://localhost:8080/"
        },
        "id": "czqtXSRyvjqk",
        "outputId": "96b9e559-6497-43b0-b8d0-58db960be4c7"
      },
      "execution_count": 8,
      "outputs": [
        {
          "output_type": "stream",
          "name": "stdout",
          "text": [
            "Before Swapping:\n",
            "a: 10 b: 20\n",
            "After Swapping:\n",
            "a: 20 b: 10\n"
          ]
        }
      ]
    },
    {
      "cell_type": "markdown",
      "source": [
        "**8. Global and Local Variables**"
      ],
      "metadata": {
        "id": "0zABXVKIvyxf"
      }
    },
    {
      "cell_type": "code",
      "source": [
        "# Global variable\n",
        "global_var = \"Global Variable\"\n",
        "\n",
        "def test_variables():\n",
        "    # Local variable\n",
        "    local_var = \"Local Variable\"\n",
        "    print(\"Inside Function:\")\n",
        "    print(\"Global Variable:\", global_var)\n",
        "    print(\"Local Variable:\", local_var)\n",
        "\n",
        "test_variables()\n",
        "\n",
        "print(\"\\nOutside Function:\")\n",
        "print(\"Global Variable:\", global_var)\n",
        "# The next line would raise an error if uncommented because local_var is not accessible here\n",
        "# print(\"Local Variable:\", local_var)\n"
      ],
      "metadata": {
        "colab": {
          "base_uri": "https://localhost:8080/"
        },
        "id": "15nCcsLiv2tA",
        "outputId": "0465ec32-1db0-4720-bb2e-8bf4a4910515"
      },
      "execution_count": 9,
      "outputs": [
        {
          "output_type": "stream",
          "name": "stdout",
          "text": [
            "Inside Function:\n",
            "Global Variable: Global Variable\n",
            "Local Variable: Local Variable\n",
            "\n",
            "Outside Function:\n",
            "Global Variable: Global Variable\n"
          ]
        }
      ]
    },
    {
      "cell_type": "markdown",
      "source": [
        "**9. Constants (Using Naming Conventions)**"
      ],
      "metadata": {
        "id": "F4pG1hxKwOKh"
      }
    },
    {
      "cell_type": "code",
      "source": [
        "# Constants are typically written in uppercase\n",
        "PI = 3.14159\n",
        "EARTH_GRAVITY = 9.8\n",
        "\n",
        "# Printing constant values\n",
        "print(\"Value of PI:\", PI)\n",
        "print(\"Earth Gravity:\", EARTH_GRAVITY)\n"
      ],
      "metadata": {
        "colab": {
          "base_uri": "https://localhost:8080/"
        },
        "id": "fb-E3wAzwUbr",
        "outputId": "16e51419-32b5-4fdc-b315-76cb49bd3138"
      },
      "execution_count": 10,
      "outputs": [
        {
          "output_type": "stream",
          "name": "stdout",
          "text": [
            "Value of PI: 3.14159\n",
            "Earth Gravity: 9.8\n"
          ]
        }
      ]
    },
    {
      "cell_type": "markdown",
      "source": [
        "**10. Dynamic Typing in Python**"
      ],
      "metadata": {
        "id": "Pg96HDLawiYW"
      }
    },
    {
      "cell_type": "code",
      "source": [
        "# Assign an integer to a variable\n",
        "var = 10\n",
        "print(\"Initial Value:\", var, \"Type:\", type(var))\n",
        "\n",
        "# Reassign a string to the same variable\n",
        "var = \"Python is fun!\"\n",
        "print(\"Reassigned Value:\", var, \"Type:\", type(var))\n"
      ],
      "metadata": {
        "colab": {
          "base_uri": "https://localhost:8080/"
        },
        "id": "b5x-XM68wtNP",
        "outputId": "27e67d69-cb66-424b-826d-8f2375a00558"
      },
      "execution_count": 11,
      "outputs": [
        {
          "output_type": "stream",
          "name": "stdout",
          "text": [
            "Initial Value: 10 Type: <class 'int'>\n",
            "Reassigned Value: Python is fun! Type: <class 'str'>\n"
          ]
        }
      ]
    },
    {
      "cell_type": "markdown",
      "source": [
        "**Example: Using sqrt and round**\n",
        "\n",
        "**Notes:**\n",
        "1. math.sqrt(): Calculates the square root of a number. You must import the math module to use it.\n",
        "2. round(): Rounds a number to the specified number of decimal places (default is 0 if not specified)."
      ],
      "metadata": {
        "id": "d8pw-XAIxZ4S"
      }
    },
    {
      "cell_type": "code",
      "source": [
        "import math\n",
        "\n",
        "# Example of sqrt (square root)\n",
        "number = 16\n",
        "square_root = math.sqrt(number)\n",
        "print(f\"The square root of {number} is {square_root}\")\n",
        "\n",
        "# Example of round\n",
        "decimal_number = 12.34567\n",
        "rounded_number = round(decimal_number, 2)  # Round to 2 decimal places\n",
        "print(f\"The number {decimal_number} rounded to 2 decimal places is {rounded_number}\")\n",
        "\n",
        "\n"
      ],
      "metadata": {
        "colab": {
          "base_uri": "https://localhost:8080/"
        },
        "id": "UlYdIlfLwxz-",
        "outputId": "31e604e6-e2b2-4514-dfc4-f0ec16767de9"
      },
      "execution_count": 12,
      "outputs": [
        {
          "output_type": "stream",
          "name": "stdout",
          "text": [
            "The square root of 16 is 4.0\n",
            "The number 12.34567 rounded to 2 decimal places is 12.35\n"
          ]
        }
      ]
    }
  ]
}
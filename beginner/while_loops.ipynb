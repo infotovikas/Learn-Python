{
  "nbformat": 4,
  "nbformat_minor": 0,
  "metadata": {
    "colab": {
      "provenance": [],
      "authorship_tag": "ABX9TyOMqPQEJNCB3m57NG5qWmjS",
      "include_colab_link": true
    },
    "kernelspec": {
      "name": "python3",
      "display_name": "Python 3"
    },
    "language_info": {
      "name": "python"
    }
  },
  "cells": [
    {
      "cell_type": "markdown",
      "metadata": {
        "id": "view-in-github",
        "colab_type": "text"
      },
      "source": [
        "<a href=\"https://colab.research.google.com/github/infotovikas/Learn-Python/blob/main/beginner/while_loops.ipynb\" target=\"_parent\"><img src=\"https://colab.research.google.com/assets/colab-badge.svg\" alt=\"Open In Colab\"/></a>"
      ]
    },
    {
      "cell_type": "markdown",
      "source": [
        "**While Loop Examples**"
      ],
      "metadata": {
        "id": "VH79YLFw1m02"
      }
    },
    {
      "cell_type": "markdown",
      "source": [
        "**Example 1: Simple Counter**"
      ],
      "metadata": {
        "id": "rGJGk2aw1UNJ"
      }
    },
    {
      "cell_type": "code",
      "execution_count": null,
      "metadata": {
        "colab": {
          "base_uri": "https://localhost:8080/"
        },
        "id": "o5ENtRu6yOCB",
        "outputId": "33981613-74be-4133-f95e-e3db727265bc"
      },
      "outputs": [
        {
          "output_type": "stream",
          "name": "stdout",
          "text": [
            "Count is: 1\n",
            "Count is: 2\n",
            "Count is: 3\n",
            "Count is: 4\n",
            "Count is: 5\n"
          ]
        }
      ],
      "source": [
        "# Simple while loop to print numbers from 1 to 5\n",
        "count = 1\n",
        "while count <= 5:\n",
        "    print(f\"Count is: {count}\")\n",
        "    count += 1\n"
      ]
    },
    {
      "cell_type": "markdown",
      "source": [
        "**Example 2: Summing Numbers Until a Condition**"
      ],
      "metadata": {
        "id": "NoXiIZcL1qxR"
      }
    },
    {
      "cell_type": "code",
      "source": [
        "# Sum numbers until the total exceeds 50\n",
        "total = 0\n",
        "number = 1\n",
        "\n",
        "while total <= 50:\n",
        "    total += number\n",
        "    print(f\"Added {number}, total is now: {total}\")\n",
        "    number += 1\n"
      ],
      "metadata": {
        "colab": {
          "base_uri": "https://localhost:8080/"
        },
        "id": "S0xxj2dj2Faa",
        "outputId": "6f6636a8-4c14-4ceb-8b08-e4f31353eb84"
      },
      "execution_count": null,
      "outputs": [
        {
          "output_type": "stream",
          "name": "stdout",
          "text": [
            "Added 1, total is now: 1\n",
            "Added 2, total is now: 3\n",
            "Added 3, total is now: 6\n",
            "Added 4, total is now: 10\n",
            "Added 5, total is now: 15\n",
            "Added 6, total is now: 21\n",
            "Added 7, total is now: 28\n",
            "Added 8, total is now: 36\n",
            "Added 9, total is now: 45\n",
            "Added 10, total is now: 55\n"
          ]
        }
      ]
    },
    {
      "cell_type": "markdown",
      "source": [
        "**Example 3: Infinite Loop with Break**"
      ],
      "metadata": {
        "id": "pUClPNt72zVR"
      }
    },
    {
      "cell_type": "code",
      "source": [
        "# Infinite loop with break\n",
        "while True:\n",
        "    user_input = input(\"Enter 'stop' to exit: \")\n",
        "    if user_input.lower() == 'stop':\n",
        "        print(\"Exiting the loop!\")\n",
        "        break\n",
        "    print(\"You entered:\", user_input)\n"
      ],
      "metadata": {
        "colab": {
          "base_uri": "https://localhost:8080/"
        },
        "id": "ap6eecSk21wq",
        "outputId": "b82a1fdc-e155-45bc-877b-3918f9dec120"
      },
      "execution_count": null,
      "outputs": [
        {
          "output_type": "stream",
          "name": "stdout",
          "text": [
            "Enter 'stop' to exit: asf\n",
            "You entered: asf\n",
            "Enter 'stop' to exit: stop\n",
            "Exiting the loop!\n"
          ]
        }
      ]
    },
    {
      "cell_type": "markdown",
      "source": [
        "**While Loop with Else**"
      ],
      "metadata": {
        "id": "Ks7m8aRa_yfw"
      }
    },
    {
      "cell_type": "code",
      "source": [
        "# While loop with an else block\n",
        "count = 1\n",
        "while count <= 3:\n",
        "    print(f\"Count is: {count}\")\n",
        "    count += 1\n",
        "else:\n",
        "    print(\"Loop ended successfully!\")\n"
      ],
      "metadata": {
        "colab": {
          "base_uri": "https://localhost:8080/"
        },
        "id": "wx8ArToD_0Xs",
        "outputId": "1fe55681-3e89-4937-c40a-c49352ce1d1f"
      },
      "execution_count": 4,
      "outputs": [
        {
          "output_type": "stream",
          "name": "stdout",
          "text": [
            "Count is: 1\n",
            "Count is: 2\n",
            "Count is: 3\n",
            "Loop ended successfully!\n"
          ]
        }
      ]
    }
  ]
}
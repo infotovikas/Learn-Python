{
  "nbformat": 4,
  "nbformat_minor": 0,
  "metadata": {
    "colab": {
      "provenance": [],
      "authorship_tag": "ABX9TyMJVwFB4wnt/xPcZ6+sZNxm",
      "include_colab_link": true
    },
    "kernelspec": {
      "name": "python3",
      "display_name": "Python 3"
    },
    "language_info": {
      "name": "python"
    }
  },
  "cells": [
    {
      "cell_type": "markdown",
      "metadata": {
        "id": "view-in-github",
        "colab_type": "text"
      },
      "source": [
        "<a href=\"https://colab.research.google.com/github/infotovikas/Learn-Python/blob/main/beginner/LawOfLargeNumebr_LLN.ipynb\" target=\"_parent\"><img src=\"https://colab.research.google.com/assets/colab-badge.svg\" alt=\"Open In Colab\"/></a>"
      ]
    },
    {
      "cell_type": "markdown",
      "source": [
        "**Example of LLN(Law of Large Number)**:- Xn => E(X)   "
      ],
      "metadata": {
        "id": "-OAZKmBT00TO"
      }
    },
    {
      "cell_type": "code",
      "source": [
        "import numpy as np\n",
        "from numpy.random import randn\n",
        "#n = randn(100)\n",
        "randn(100)\n",
        "#for i in n:\n",
        "  #print(i)"
      ],
      "metadata": {
        "colab": {
          "base_uri": "https://localhost:8080/"
        },
        "id": "fD9tCcmB27x9",
        "outputId": "85f0834a-0abf-48eb-b04f-00837c966400"
      },
      "execution_count": 3,
      "outputs": [
        {
          "output_type": "execute_result",
          "data": {
            "text/plain": [
              "array([-0.26870003,  1.05236483, -1.02266096,  0.9769306 ,  0.25075041,\n",
              "       -0.00659067, -1.51194634, -0.59639468, -0.80796976,  0.11858902,\n",
              "        0.83925081, -0.30712584, -1.50747397, -1.06203615, -1.47800329,\n",
              "       -0.70429264,  0.99797302, -0.10901638,  1.24990488,  0.38583824,\n",
              "       -1.08930583, -1.63601706,  1.5254478 , -0.05234041, -0.36306877,\n",
              "       -0.19992854, -0.11581861, -1.33873765, -2.230545  ,  0.78062883,\n",
              "        0.97431281, -0.31713742, -0.33098294, -0.38181907,  0.83473097,\n",
              "        1.14271045,  0.29265019, -1.72748732, -1.72192243,  0.46823169,\n",
              "       -0.30703493, -0.85120993,  1.17526193, -0.5512371 ,  1.1325223 ,\n",
              "        2.0183611 , -0.27914333, -1.11440194, -0.24724282, -0.02893129,\n",
              "       -0.26058761,  1.16367472,  0.65308174, -2.07512481,  0.50027831,\n",
              "       -0.24428424,  0.62630494, -0.79437842, -0.48177961, -1.39595751,\n",
              "       -0.58535334,  0.37327097,  0.17202702, -1.07670495,  0.43288397,\n",
              "       -0.22588035, -2.09021162, -2.4771135 , -0.46884475, -1.44498269,\n",
              "        0.40105445,  0.39341871, -1.30886744, -0.15782713,  1.73084331,\n",
              "       -1.3847342 ,  0.80812632,  0.50164436,  1.19425224, -0.17076681,\n",
              "        2.16200062, -1.89517888,  0.439332  ,  0.21341919, -0.90604467,\n",
              "        1.49437867, -0.57011047, -1.97785826, -0.88739809,  1.10310322,\n",
              "       -0.21067228, -0.13686154,  1.92943451,  0.82486546,  0.39740513,\n",
              "        0.6019578 ,  0.96573122,  0.32650069, -0.8839572 ,  0.43411691])"
            ]
          },
          "metadata": {},
          "execution_count": 3
        }
      ]
    },
    {
      "cell_type": "code",
      "execution_count": 11,
      "metadata": {
        "colab": {
          "base_uri": "https://localhost:8080/"
        },
        "id": "IoMJnesKwOw2",
        "outputId": "b1c21a91-c2ac-4d77-d0fa-c5ea35885d83"
      },
      "outputs": [
        {
          "output_type": "stream",
          "name": "stdout",
          "text": [
            "0.6852\n"
          ]
        }
      ],
      "source": [
        "import numpy as np\n",
        "from numpy.random import randn\n",
        "N = 10000                        #specify sample size\n",
        "counter = 0                 #reset counter\n",
        "for i in randn(N):            #iterate over random values\n",
        "  if ( i > -1 and i < 1):         #check where iterated variable falls\n",
        "    counter = counter + 1              #increase couner if condition is met\n",
        "answer = counter / N         #calculate hit-ratio\n",
        "print(answer)"
      ]
    }
  ]
}
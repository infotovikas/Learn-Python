{
  "nbformat": 4,
  "nbformat_minor": 0,
  "metadata": {
    "colab": {
      "provenance": [],
      "authorship_tag": "ABX9TyNQO2CqZRFgVebVhSs2Sww9",
      "include_colab_link": true
    },
    "kernelspec": {
      "name": "python3",
      "display_name": "Python 3"
    },
    "language_info": {
      "name": "python"
    }
  },
  "cells": [
    {
      "cell_type": "markdown",
      "metadata": {
        "id": "view-in-github",
        "colab_type": "text"
      },
      "source": [
        "<a href=\"https://colab.research.google.com/github/infotovikas/Learn-Python/blob/main/beginner/Functions_in_Python.ipynb\" target=\"_parent\"><img src=\"https://colab.research.google.com/assets/colab-badge.svg\" alt=\"Open In Colab\"/></a>"
      ]
    },
    {
      "cell_type": "markdown",
      "source": [
        "**1. User-Defined Function**\n"
      ],
      "metadata": {
        "id": "dSY_vZEQ-d4Y"
      }
    },
    {
      "cell_type": "markdown",
      "source": [
        "**Example 1: Simple Function with No Arguments**"
      ],
      "metadata": {
        "id": "CHqFXgp2-l6k"
      }
    },
    {
      "cell_type": "code",
      "source": [
        "# Define a function to greet the user\n",
        "def greet():\n",
        "    print(\"Hello, welcome to Python!\")"
      ],
      "metadata": {
        "id": "LOzK1iCi-tMJ"
      },
      "execution_count": 1,
      "outputs": []
    },
    {
      "cell_type": "code",
      "source": [
        "# Call the function\n",
        "greet()"
      ],
      "metadata": {
        "colab": {
          "base_uri": "https://localhost:8080/"
        },
        "id": "G9gfuEYX-ush",
        "outputId": "52d9df17-6a15-4329-a8fa-5b4514a68484"
      },
      "execution_count": 2,
      "outputs": [
        {
          "output_type": "stream",
          "name": "stdout",
          "text": [
            "Hello, welcome to Python!\n"
          ]
        }
      ]
    },
    {
      "cell_type": "markdown",
      "source": [
        "**Example 2: Function with Arguments**"
      ],
      "metadata": {
        "id": "gbdhHOqN-3I6"
      }
    },
    {
      "cell_type": "code",
      "source": [
        "# Define a function to greet the user with their name\n",
        "def greet(name):\n",
        "    print(f\"Hello, {name}! Welcome to Python.\")"
      ],
      "metadata": {
        "id": "yB12XJ7U-8ow"
      },
      "execution_count": 3,
      "outputs": []
    },
    {
      "cell_type": "code",
      "source": [
        "# Call the function with an argument\n",
        "greet(\"Alice\")\n",
        "greet(\"Bob\")"
      ],
      "metadata": {
        "colab": {
          "base_uri": "https://localhost:8080/"
        },
        "id": "atOr2Meh-_9A",
        "outputId": "adbfc7e9-a96a-4202-f096-fc8427dd7824"
      },
      "execution_count": 4,
      "outputs": [
        {
          "output_type": "stream",
          "name": "stdout",
          "text": [
            "Hello, Alice! Welcome to Python.\n",
            "Hello, Bob! Welcome to Python.\n"
          ]
        }
      ]
    },
    {
      "cell_type": "markdown",
      "source": [
        "**Example 3: Function with Return Value**"
      ],
      "metadata": {
        "id": "3ttQ9ZEj_F9j"
      }
    },
    {
      "cell_type": "code",
      "source": [
        "# Define a function to add two numbers and return the result\n",
        "def add(a, b):\n",
        "    return a + b"
      ],
      "metadata": {
        "id": "s55l9U-__LFD"
      },
      "execution_count": 5,
      "outputs": []
    },
    {
      "cell_type": "code",
      "source": [
        "# Call the function and store the result\n",
        "result = add(5, 3)\n",
        "print(f\"The sum is: {result}\")"
      ],
      "metadata": {
        "colab": {
          "base_uri": "https://localhost:8080/"
        },
        "id": "gjqVz906_O0C",
        "outputId": "3f793e64-68a1-4b7f-cdb5-8c8fb4fa1b24"
      },
      "execution_count": 6,
      "outputs": [
        {
          "output_type": "stream",
          "name": "stdout",
          "text": [
            "The sum is: 8\n"
          ]
        }
      ]
    },
    {
      "cell_type": "markdown",
      "source": [
        "**Example 4: Function with Default Argument**"
      ],
      "metadata": {
        "id": "BwB6O05__UgQ"
      }
    },
    {
      "cell_type": "code",
      "source": [
        "# Define a function with a default argument\n",
        "def greet(name=\"Guest\"):\n",
        "    print(f\"Hello, {name}! Welcome to Python.\")"
      ],
      "metadata": {
        "id": "QBbopFo6_YqW"
      },
      "execution_count": 11,
      "outputs": []
    },
    {
      "cell_type": "code",
      "source": [
        "# Call the function with and without an argument\n",
        "greet(\"Alice\")\n",
        "greet()  # Using the default argument"
      ],
      "metadata": {
        "colab": {
          "base_uri": "https://localhost:8080/"
        },
        "id": "2YfmWFwv_nz_",
        "outputId": "8f9edec3-3403-45ff-ea9e-8fae2206c3c3"
      },
      "execution_count": 13,
      "outputs": [
        {
          "output_type": "stream",
          "name": "stdout",
          "text": [
            "Hello, Alice! Welcome to Python.\n",
            "Hello, Guest! Welcome to Python.\n"
          ]
        }
      ]
    },
    {
      "cell_type": "markdown",
      "source": [
        "**Example 5: Function with Multiple Return Values**"
      ],
      "metadata": {
        "id": "0CR7JxzS_ssD"
      }
    },
    {
      "cell_type": "code",
      "source": [
        "# Define a function that returns multiple values\n",
        "def arithmetic_operations(a, b):\n",
        "    return a + b, a - b, a * b, a / b"
      ],
      "metadata": {
        "id": "dvwnVo0u_ySY"
      },
      "execution_count": 10,
      "outputs": []
    },
    {
      "cell_type": "code",
      "source": [
        "# Call the function and unpack the returned values\n",
        "sum_result, diff_result, prod_result, div_result = arithmetic_operations(10, 2)\n",
        "\n",
        "print(f\"Sum: {sum_result}, Difference: {diff_result}, Product: {prod_result}, Division: {div_result}\")"
      ],
      "metadata": {
        "colab": {
          "base_uri": "https://localhost:8080/"
        },
        "id": "bce0a5Jc_6E6",
        "outputId": "25511139-6ace-44d9-f501-e2285d63bdbe"
      },
      "execution_count": 14,
      "outputs": [
        {
          "output_type": "stream",
          "name": "stdout",
          "text": [
            "Sum: 12, Difference: 8, Product: 20, Division: 5.0\n"
          ]
        }
      ]
    },
    {
      "cell_type": "markdown",
      "source": [
        "**2. Built-in Functions in Python**"
      ],
      "metadata": {
        "id": "sct92nR6Ab0n"
      }
    },
    {
      "cell_type": "code",
      "source": [
        "#Example 1: print()\n",
        "# Print function to display text\n",
        "print(\"Hello, Python!\")\n"
      ],
      "metadata": {
        "colab": {
          "base_uri": "https://localhost:8080/"
        },
        "id": "OSApJRI0BQ2R",
        "outputId": "a1d20339-7af1-4368-a8ae-1bb9163acbed"
      },
      "execution_count": 15,
      "outputs": [
        {
          "output_type": "stream",
          "name": "stdout",
          "text": [
            "Hello, Python!\n"
          ]
        }
      ]
    },
    {
      "cell_type": "code",
      "source": [
        "#Example 2: len()\n",
        "# Use len() to get the length of a string\n",
        "name = \"Alice\"\n",
        "length = len(name)\n",
        "print(f\"The length of the name '{name}' is {length}.\")"
      ],
      "metadata": {
        "colab": {
          "base_uri": "https://localhost:8080/"
        },
        "id": "vKDzr1pbBSlF",
        "outputId": "e5c2ce64-d585-4b36-da95-4c8ffd836bbc"
      },
      "execution_count": 16,
      "outputs": [
        {
          "output_type": "stream",
          "name": "stdout",
          "text": [
            "The length of the name 'Alice' is 5.\n"
          ]
        }
      ]
    },
    {
      "cell_type": "code",
      "source": [
        "#Example 3: type()\n",
        "# Use type() to check the data type of a variable\n",
        "age = 25\n",
        "print(f\"The data type of 'age' is: {type(age)}\")\n",
        "name = \"Alice\"\n",
        "print(f\"The data type of 'name' is: {type(name)}\")"
      ],
      "metadata": {
        "colab": {
          "base_uri": "https://localhost:8080/"
        },
        "id": "jBMNLNGcBSaV",
        "outputId": "b3ef116e-12a9-4a64-eb37-d8894c43b0d1"
      },
      "execution_count": 17,
      "outputs": [
        {
          "output_type": "stream",
          "name": "stdout",
          "text": [
            "The data type of 'age' is: <class 'int'>\n",
            "The data type of 'name' is: <class 'str'>\n"
          ]
        }
      ]
    },
    {
      "cell_type": "code",
      "source": [
        "#Example 4: max() and min()\n",
        "# Use max() and min() to find the maximum and minimum from a list\n",
        "numbers = [10, 5, 20, 3, 15]\n",
        "print(f\"The maximum number is: {max(numbers)}\")\n",
        "print(f\"The minimum number is: {min(numbers)}\")"
      ],
      "metadata": {
        "colab": {
          "base_uri": "https://localhost:8080/"
        },
        "id": "hL9YmvJhBSOm",
        "outputId": "0dcbe37b-87df-45b8-dbef-90fa277bd6cb"
      },
      "execution_count": 18,
      "outputs": [
        {
          "output_type": "stream",
          "name": "stdout",
          "text": [
            "The maximum number is: 20\n",
            "The minimum number is: 3\n"
          ]
        }
      ]
    },
    {
      "cell_type": "code",
      "source": [
        "#Example 5: sum()\n",
        "# Use sum() to get the sum of a list\n",
        "numbers = [10, 5, 20, 3, 15]\n",
        "total = sum(numbers)\n",
        "print(f\"The sum of the numbers is: {total}\")"
      ],
      "metadata": {
        "colab": {
          "base_uri": "https://localhost:8080/"
        },
        "id": "n4ldo-qxBSBM",
        "outputId": "962694f7-e581-4310-8dc7-f8d238038f34"
      },
      "execution_count": 19,
      "outputs": [
        {
          "output_type": "stream",
          "name": "stdout",
          "text": [
            "The sum of the numbers is: 53\n"
          ]
        }
      ]
    },
    {
      "cell_type": "code",
      "source": [
        "#Example 6: sorted()\n",
        "# Use sorted() to sort a list in ascending order\n",
        "numbers = [10, 5, 20, 3, 15]\n",
        "sorted_numbers = sorted(numbers)\n",
        "print(f\"Sorted numbers: {sorted_numbers}\")"
      ],
      "metadata": {
        "colab": {
          "base_uri": "https://localhost:8080/"
        },
        "id": "FyoZI1WMBT_8",
        "outputId": "32f6c2df-687a-4a63-f599-66b61906b367"
      },
      "execution_count": 20,
      "outputs": [
        {
          "output_type": "stream",
          "name": "stdout",
          "text": [
            "Sorted numbers: [3, 5, 10, 15, 20]\n"
          ]
        }
      ]
    },
    {
      "cell_type": "code",
      "source": [
        "#Example 7: input()\n",
        "# Use input() to get input from the user\n",
        "name = input(\"Enter your name: \")\n",
        "print(f\"Hello, {name}!\")"
      ],
      "metadata": {
        "colab": {
          "base_uri": "https://localhost:8080/"
        },
        "id": "KO8eZ_XoBT0t",
        "outputId": "aae4cee3-3a92-4a80-a543-fa5c9337d863"
      },
      "execution_count": 21,
      "outputs": [
        {
          "output_type": "stream",
          "name": "stdout",
          "text": [
            "Enter your name: Vikas\n",
            "Hello, Vikas!\n"
          ]
        }
      ]
    },
    {
      "cell_type": "code",
      "source": [
        "#Example 8: abs()\n",
        "# Use abs() to get the absolute value of a number\n",
        "number = -10\n",
        "absolute_value = abs(number)\n",
        "print(f\"The absolute value of {number} is {absolute_value}.\")"
      ],
      "metadata": {
        "colab": {
          "base_uri": "https://localhost:8080/"
        },
        "id": "Iynnso5wBTpD",
        "outputId": "4ed66865-b1c4-4c46-c347-db90bab7ad11"
      },
      "execution_count": 22,
      "outputs": [
        {
          "output_type": "stream",
          "name": "stdout",
          "text": [
            "The absolute value of -10 is 10.\n"
          ]
        }
      ]
    },
    {
      "cell_type": "code",
      "source": [
        "\n",
        "#Example 9: round()\n",
        "# Use round() to round a number to a specified number of decimal places\n",
        "pi = 3.14159\n",
        "rounded_pi = round(pi, 2)\n",
        "print(f\"Rounded value of pi to 2 decimal places: {rounded_pi}\")"
      ],
      "metadata": {
        "colab": {
          "base_uri": "https://localhost:8080/"
        },
        "id": "hduvK9dEBRsR",
        "outputId": "316ac210-6d78-4aeb-ec96-ce2019ede4f9"
      },
      "execution_count": 23,
      "outputs": [
        {
          "output_type": "stream",
          "name": "stdout",
          "text": [
            "Rounded value of pi to 2 decimal places: 3.14\n"
          ]
        }
      ]
    },
    {
      "cell_type": "markdown",
      "source": [
        "**3. Lambda Functions (Anonymous Functions)**"
      ],
      "metadata": {
        "id": "u5NuQmeFBORc"
      }
    },
    {
      "cell_type": "code",
      "source": [
        "#Example 1: Simple Lambda Function\n",
        "# A simple lambda function to add two numbers\n",
        "add = lambda x, y: x + y\n",
        "result = add(5, 3)\n",
        "print(f\"The sum is: {result}\")"
      ],
      "metadata": {
        "colab": {
          "base_uri": "https://localhost:8080/"
        },
        "id": "qytMWL58CCA9",
        "outputId": "a12e2bc7-463c-40c1-da1f-24cebaa2ab17"
      },
      "execution_count": 24,
      "outputs": [
        {
          "output_type": "stream",
          "name": "stdout",
          "text": [
            "The sum is: 8\n"
          ]
        }
      ]
    },
    {
      "cell_type": "code",
      "source": [
        "#Example 2: Using Lambda with map()\n",
        "# Use lambda with map() to square each number in a list\n",
        "numbers = [1, 2, 3, 4, 5]\n",
        "squared_numbers = list(map(lambda x: x ** 2, numbers))\n",
        "print(f\"Squared numbers: {squared_numbers}\")"
      ],
      "metadata": {
        "colab": {
          "base_uri": "https://localhost:8080/"
        },
        "id": "z-wJ-PStCDxT",
        "outputId": "cc87e55a-0ea9-47e6-c140-c5fe26925d68"
      },
      "execution_count": 25,
      "outputs": [
        {
          "output_type": "stream",
          "name": "stdout",
          "text": [
            "Squared numbers: [1, 4, 9, 16, 25]\n"
          ]
        }
      ]
    },
    {
      "cell_type": "markdown",
      "source": [
        "**4. Function with Variable Number of Arguments**"
      ],
      "metadata": {
        "id": "JVifTkzUB_ZX"
      }
    },
    {
      "cell_type": "code",
      "source": [
        "#Example 1: Using *args for Variable Arguments\n",
        "# Function that takes a variable number of arguments\n",
        "def add_numbers(*args):\n",
        "    return sum(args)\n"
      ],
      "metadata": {
        "id": "xUxY2waACQgi"
      },
      "execution_count": 26,
      "outputs": []
    },
    {
      "cell_type": "code",
      "source": [
        "# Call the function with different numbers of arguments\n",
        "print(f\"Sum of 1, 2, 3 is: {add_numbers(1, 2, 3)}\")\n",
        "print(f\"Sum of 4, 5, 6, 7 is: {add_numbers(4, 5, 6, 7)}\")"
      ],
      "metadata": {
        "colab": {
          "base_uri": "https://localhost:8080/"
        },
        "id": "TnpGmVfDCShD",
        "outputId": "1b31c366-16ef-4fa2-f1d6-3bb7184872f0"
      },
      "execution_count": 27,
      "outputs": [
        {
          "output_type": "stream",
          "name": "stdout",
          "text": [
            "Sum of 1, 2, 3 is: 6\n",
            "Sum of 4, 5, 6, 7 is: 22\n"
          ]
        }
      ]
    },
    {
      "cell_type": "code",
      "execution_count": 28,
      "metadata": {
        "id": "6sAPfNiJ-WE1"
      },
      "outputs": [],
      "source": [
        "\n",
        "#Example 2: Using **kwargs for Variable Keyword Arguments\n",
        "# Function that takes a variable number of keyword arguments\n",
        "def print_student_scores(**kwargs):\n",
        "    for student, score in kwargs.items():\n",
        "        print(f\"{student} scored {score} points.\")"
      ]
    },
    {
      "cell_type": "code",
      "source": [
        "# Call the function with keyword arguments\n",
        "print_student_scores(Alice=85, Bob=90, Charlie=78)"
      ],
      "metadata": {
        "colab": {
          "base_uri": "https://localhost:8080/"
        },
        "id": "zmpAauzJCWUP",
        "outputId": "0a107136-0848-48a4-d693-ad9f2b3e70bc"
      },
      "execution_count": 29,
      "outputs": [
        {
          "output_type": "stream",
          "name": "stdout",
          "text": [
            "Alice scored 85 points.\n",
            "Bob scored 90 points.\n",
            "Charlie scored 78 points.\n"
          ]
        }
      ]
    }
  ]
}
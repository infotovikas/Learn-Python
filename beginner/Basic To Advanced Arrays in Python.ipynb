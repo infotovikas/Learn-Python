{
  "nbformat": 4,
  "nbformat_minor": 0,
  "metadata": {
    "colab": {
      "provenance": [],
      "authorship_tag": "ABX9TyN1/5wlY5PyQQuBcHoB2XxY",
      "include_colab_link": true
    },
    "kernelspec": {
      "name": "python3",
      "display_name": "Python 3"
    },
    "language_info": {
      "name": "python"
    }
  },
  "cells": [
    {
      "cell_type": "markdown",
      "metadata": {
        "id": "view-in-github",
        "colab_type": "text"
      },
      "source": [
        "<a href=\"https://colab.research.google.com/github/infotovikas/Learn-Python/blob/main/beginner/Basic%20To%20Advanced%20Arrays%20in%20Python.ipynb\" target=\"_parent\"><img src=\"https://colab.research.google.com/assets/colab-badge.svg\" alt=\"Open In Colab\"/></a>"
      ]
    },
    {
      "cell_type": "markdown",
      "source": [
        "**1. Using the array module in Python**"
      ],
      "metadata": {
        "id": "1uOUToqB9CdA"
      }
    },
    {
      "cell_type": "code",
      "source": [
        "#Example 1: Creating an Array\n",
        "\n",
        "import array\n",
        "# Create an array of integers\n",
        "arr = array.array('i', [1, 2, 3, 4, 5])\n",
        "print(f\"Array: {arr}\")"
      ],
      "metadata": {
        "colab": {
          "base_uri": "https://localhost:8080/"
        },
        "id": "DlpY40Tl-VOp",
        "outputId": "65729c59-b9fc-4664-bf0d-8e19d8af757c"
      },
      "execution_count": 1,
      "outputs": [
        {
          "output_type": "stream",
          "name": "stdout",
          "text": [
            "Array: array('i', [1, 2, 3, 4, 5])\n"
          ]
        }
      ]
    },
    {
      "cell_type": "code",
      "source": [
        "#Example 2: Accessing Array Elements\n",
        "\n",
        "import array\n",
        "# Create an array of integers\n",
        "arr = array.array('i', [10, 20, 30, 40, 50])\n",
        "\n",
        "# Access elements by index\n",
        "print(f\"Element at index 2: {arr[2]}\")  # Access element at index 2\n",
        "print(f\"Last element: {arr[-1]}\")  # Access last element"
      ],
      "metadata": {
        "colab": {
          "base_uri": "https://localhost:8080/"
        },
        "id": "3dWLEhtq-kRF",
        "outputId": "d1d42df1-0271-4446-e960-fcb859f83808"
      },
      "execution_count": 2,
      "outputs": [
        {
          "output_type": "stream",
          "name": "stdout",
          "text": [
            "Element at index 2: 30\n",
            "Last element: 50\n"
          ]
        }
      ]
    },
    {
      "cell_type": "code",
      "source": [
        "\n",
        "#Example 3: Adding and Removing Elements\n",
        "\n",
        "import array\n",
        "# Create an array of integers\n",
        "arr = array.array('i', [1, 2, 3, 4, 5])\n",
        "\n",
        "# Append an element to the array\n",
        "arr.append(6)\n",
        "print(f\"Array after append: {arr}\")\n",
        "\n",
        "# Insert an element at a specific position\n",
        "arr.insert(2, 10)\n",
        "print(f\"Array after insert: {arr}\")\n",
        "\n",
        "# Remove an element\n",
        "arr.remove(3)\n",
        "print(f\"Array after remove: {arr}\")"
      ],
      "metadata": {
        "colab": {
          "base_uri": "https://localhost:8080/"
        },
        "id": "5GNSXcCH-xxa",
        "outputId": "8f4d87b2-6f09-4336-d89b-a7be3cb7195b"
      },
      "execution_count": 3,
      "outputs": [
        {
          "output_type": "stream",
          "name": "stdout",
          "text": [
            "Array after append: array('i', [1, 2, 3, 4, 5, 6])\n",
            "Array after insert: array('i', [1, 2, 10, 3, 4, 5, 6])\n",
            "Array after remove: array('i', [1, 2, 10, 4, 5, 6])\n"
          ]
        }
      ]
    },
    {
      "cell_type": "code",
      "source": [
        "#Example 4: Array Traversal\n",
        "\n",
        "import array\n",
        "# Create an array of integers\n",
        "arr = array.array('i', [1, 2, 3, 4, 5])\n",
        "\n",
        "# Traverse the array using a for loop\n",
        "print(\"Traversing array:\")\n",
        "for element in arr:\n",
        "    print(element)"
      ],
      "metadata": {
        "colab": {
          "base_uri": "https://localhost:8080/"
        },
        "id": "357uHu-O_FKc",
        "outputId": "7bc491f9-9ead-46e3-b3a2-d371f27d630f"
      },
      "execution_count": 4,
      "outputs": [
        {
          "output_type": "stream",
          "name": "stdout",
          "text": [
            "Traversing array:\n",
            "1\n",
            "2\n",
            "3\n",
            "4\n",
            "5\n"
          ]
        }
      ]
    },
    {
      "cell_type": "markdown",
      "source": [
        "**2. Using NumPy Arrays**\n",
        ": NumPy is widely used for array manipulations and mathematical operations in Python.\n",
        "\n",
        "First, install NumPy if it's not already installed:"
      ],
      "metadata": {
        "id": "acLJkUKe_RTH"
      }
    },
    {
      "cell_type": "code",
      "source": [
        "!pip install numpy"
      ],
      "metadata": {
        "colab": {
          "base_uri": "https://localhost:8080/"
        },
        "id": "mmt13eU4_bWn",
        "outputId": "29289073-8817-42a5-fc11-6ff40bab14a9"
      },
      "execution_count": 5,
      "outputs": [
        {
          "output_type": "stream",
          "name": "stdout",
          "text": [
            "Requirement already satisfied: numpy in /usr/local/lib/python3.11/dist-packages (1.26.4)\n"
          ]
        }
      ]
    },
    {
      "cell_type": "code",
      "source": [
        "#Example 1: Creating a NumPy Array\n",
        "\n",
        "import numpy as np\n",
        "# Create a NumPy array from a Python list\n",
        "arr = np.array([10, 20, 30, 40, 50])\n",
        "print(f\"NumPy Array: {arr}\")"
      ],
      "metadata": {
        "colab": {
          "base_uri": "https://localhost:8080/"
        },
        "id": "4gHQK1Sk_g_a",
        "outputId": "e001147c-e506-40c4-d550-add643aa4267"
      },
      "execution_count": 6,
      "outputs": [
        {
          "output_type": "stream",
          "name": "stdout",
          "text": [
            "NumPy Array: [10 20 30 40 50]\n"
          ]
        }
      ]
    },
    {
      "cell_type": "code",
      "source": [
        "#Example 2: Accessing Elements of a NumPy Array\n",
        "\n",
        "import numpy as np\n",
        "# Create a NumPy array\n",
        "arr = np.array([10, 20, 30, 40, 50])\n",
        "\n",
        "# Access elements by index\n",
        "print(f\"Element at index 2: {arr[2]}\")  # Access element at index 2\n",
        "print(f\"Last element: {arr[-1]}\")  # Access last element"
      ],
      "metadata": {
        "colab": {
          "base_uri": "https://localhost:8080/"
        },
        "id": "3b0MHmTO_rpI",
        "outputId": "642bde85-33d5-4678-b409-6e174f0bff91"
      },
      "execution_count": 7,
      "outputs": [
        {
          "output_type": "stream",
          "name": "stdout",
          "text": [
            "Element at index 2: 30\n",
            "Last element: 50\n"
          ]
        }
      ]
    },
    {
      "cell_type": "code",
      "source": [
        "#Example 3: Array Operations in NumPy\n",
        "\n",
        "import numpy as np\n",
        "# Create two NumPy arrays\n",
        "arr1 = np.array([1, 2, 3])\n",
        "arr2 = np.array([4, 5, 6])\n",
        "\n",
        "# Perform element-wise addition\n",
        "result = arr1 + arr2\n",
        "print(f\"Addition of arr1 and arr2: {result}\")\n",
        "\n",
        "# Perform element-wise multiplication\n",
        "result = arr1 * arr2\n",
        "print(f\"Multiplication of arr1 and arr2: {result}\")"
      ],
      "metadata": {
        "colab": {
          "base_uri": "https://localhost:8080/"
        },
        "id": "q_MJF_ju_0DM",
        "outputId": "6965519f-aa1e-4702-af50-9c629510adbc"
      },
      "execution_count": 8,
      "outputs": [
        {
          "output_type": "stream",
          "name": "stdout",
          "text": [
            "Addition of arr1 and arr2: [5 7 9]\n",
            "Multiplication of arr1 and arr2: [ 4 10 18]\n"
          ]
        }
      ]
    },
    {
      "cell_type": "code",
      "source": [
        "#Example 4: Array Slicing\n",
        "\n",
        "import numpy as np\n",
        "# Create a NumPy array\n",
        "arr = np.array([10, 20, 30, 40, 50, 60, 70])\n",
        "\n",
        "# Slice the array to get elements from index 2 to 5\n",
        "slice_arr = arr[2:6]\n",
        "print(f\"Sliced Array (index 2 to 5): {slice_arr}\")"
      ],
      "metadata": {
        "colab": {
          "base_uri": "https://localhost:8080/"
        },
        "id": "NK-m7v_aADQX",
        "outputId": "5c2044f7-6294-459d-d5cd-7b22112fb72b"
      },
      "execution_count": 9,
      "outputs": [
        {
          "output_type": "stream",
          "name": "stdout",
          "text": [
            "Sliced Array (index 2 to 5): [30 40 50 60]\n"
          ]
        }
      ]
    },
    {
      "cell_type": "code",
      "source": [
        "#Example 5: Reshaping a NumPy Array\n",
        "\n",
        "import numpy as np\n",
        "# Create a 1D NumPy array\n",
        "arr = np.array([1, 2, 3, 4, 5, 6, 7, 8])\n",
        "\n",
        "# Reshape the array into 2D (2 rows, 4 columns)\n",
        "reshaped_arr = arr.reshape(2, 4)\n",
        "print(f\"Reshaped Array (2x4):\\n{reshaped_arr}\")"
      ],
      "metadata": {
        "colab": {
          "base_uri": "https://localhost:8080/"
        },
        "id": "pJIk5PXQAhIu",
        "outputId": "807c71a6-94e8-474c-ad50-a4a3e393c350"
      },
      "execution_count": 10,
      "outputs": [
        {
          "output_type": "stream",
          "name": "stdout",
          "text": [
            "Reshaped Array (2x4):\n",
            "[[1 2 3 4]\n",
            " [5 6 7 8]]\n"
          ]
        }
      ]
    },
    {
      "cell_type": "code",
      "source": [
        "#Example 6: Array Broadcasting\n",
        "\n",
        "import numpy as np\n",
        "# Create a 2D NumPy array\n",
        "arr = np.array([[1, 2], [3, 4]])\n",
        "\n",
        "# Broadcast scalar to the array (adding 5 to each element)\n",
        "result = arr + 5\n",
        "print(f\"Array after broadcasting (add 5):\\n{result}\")"
      ],
      "metadata": {
        "colab": {
          "base_uri": "https://localhost:8080/"
        },
        "id": "GhqbNQ-BA0tZ",
        "outputId": "c666592c-b1a4-4536-d9ea-ce1624875911"
      },
      "execution_count": 11,
      "outputs": [
        {
          "output_type": "stream",
          "name": "stdout",
          "text": [
            "Array after broadcasting (add 5):\n",
            "[[6 7]\n",
            " [8 9]]\n"
          ]
        }
      ]
    },
    {
      "cell_type": "code",
      "source": [
        "#Example 7: NumPy Array Operations on Multi-dimensional Arrays\n",
        "\n",
        "import numpy as np\n",
        "# Create a 2D NumPy array (Matrix)\n",
        "matrix = np.array([[1, 2], [3, 4]])\n",
        "\n",
        "# Transpose the matrix\n",
        "transposed_matrix = np.transpose(matrix)\n",
        "print(f\"Transposed Matrix:\\n{transposed_matrix}\")\n",
        "\n",
        "# Matrix multiplication (dot product)\n",
        "dot_product = np.dot(matrix, transposed_matrix)\n",
        "print(f\"Dot product of matrix and its transpose:\\n{dot_product}\")"
      ],
      "metadata": {
        "colab": {
          "base_uri": "https://localhost:8080/"
        },
        "id": "fqx1xFCbBAn-",
        "outputId": "277a6b67-830c-4c9e-812e-319dc5e1e6d1"
      },
      "execution_count": 12,
      "outputs": [
        {
          "output_type": "stream",
          "name": "stdout",
          "text": [
            "Transposed Matrix:\n",
            "[[1 3]\n",
            " [2 4]]\n",
            "Dot product of matrix and its transpose:\n",
            "[[ 5 11]\n",
            " [11 25]]\n"
          ]
        }
      ]
    },
    {
      "cell_type": "markdown",
      "source": [
        "**3. Working with Multidimensional Arrays**"
      ],
      "metadata": {
        "id": "kxSsA9SbBZ7Y"
      }
    },
    {
      "cell_type": "code",
      "source": [
        "#Example 1: Creating a 2D Array with NumPy\n",
        "\n",
        "import numpy as np\n",
        "# Create a 2D NumPy array\n",
        "arr = np.array([[1, 2, 3], [4, 5, 6], [7, 8, 9]])\n",
        "print(f\"2D NumPy Array:\\n{arr}\")"
      ],
      "metadata": {
        "colab": {
          "base_uri": "https://localhost:8080/"
        },
        "id": "41eOWA8XBdGy",
        "outputId": "c67bced7-6e13-4bdf-86fb-3f1b307bd88b"
      },
      "execution_count": 13,
      "outputs": [
        {
          "output_type": "stream",
          "name": "stdout",
          "text": [
            "2D NumPy Array:\n",
            "[[1 2 3]\n",
            " [4 5 6]\n",
            " [7 8 9]]\n"
          ]
        }
      ]
    },
    {
      "cell_type": "code",
      "source": [
        "#Example 2: Accessing Elements in a 2D Array\n",
        "\n",
        "import numpy as np\n",
        "# Create a 2D NumPy array\n",
        "arr = np.array([[1, 2, 3], [4, 5, 6], [7, 8, 9]])\n",
        "\n",
        "# Access a specific element\n",
        "print(f\"Element at [1, 2]: {arr[1, 2]}\")  # Element in row 1, column 2\n",
        "\n",
        "# Slice a submatrix\n",
        "submatrix = arr[0:2, 1:3]\n",
        "print(f\"Sliced Submatrix:\\n{submatrix}\")"
      ],
      "metadata": {
        "colab": {
          "base_uri": "https://localhost:8080/"
        },
        "id": "6D42mFYSBnwc",
        "outputId": "1f33cd84-d5d7-4b41-b56e-8c8744fde1c3"
      },
      "execution_count": 14,
      "outputs": [
        {
          "output_type": "stream",
          "name": "stdout",
          "text": [
            "Element at [1, 2]: 6\n",
            "Sliced Submatrix:\n",
            "[[2 3]\n",
            " [5 6]]\n"
          ]
        }
      ]
    },
    {
      "cell_type": "markdown",
      "source": [
        "**4. Array Manipulation in NumPy**"
      ],
      "metadata": {
        "id": "uTvismhnCC81"
      }
    },
    {
      "cell_type": "code",
      "source": [
        "#Example: Stacking Arrays\n",
        "\n",
        "import numpy as np\n",
        "# Create two arrays\n",
        "arr1 = np.array([1, 2, 3])\n",
        "arr2 = np.array([4, 5, 6])\n",
        "\n",
        "# Stack arrays vertically (row-wise)\n",
        "stacked_arr = np.vstack((arr1, arr2))\n",
        "print(f\"Vertically Stacked Array:\\n{stacked_arr}\")\n",
        "\n",
        "# Stack arrays horizontally (column-wise)\n",
        "stacked_arr_h = np.hstack((arr1, arr2))\n",
        "print(f\"Horizontally Stacked Array: {stacked_arr_h}\")"
      ],
      "metadata": {
        "colab": {
          "base_uri": "https://localhost:8080/"
        },
        "id": "VUMNGG_WCMXl",
        "outputId": "96e74c51-64e3-457a-f2b6-ffbb1a5b12fb"
      },
      "execution_count": 15,
      "outputs": [
        {
          "output_type": "stream",
          "name": "stdout",
          "text": [
            "Vertically Stacked Array:\n",
            "[[1 2 3]\n",
            " [4 5 6]]\n",
            "Horizontally Stacked Array: [1 2 3 4 5 6]\n"
          ]
        }
      ]
    },
    {
      "cell_type": "markdown",
      "source": [
        "**5. Multi-dimensional Array Indexing and Slicing**"
      ],
      "metadata": {
        "id": "1rFlM88fCkHe"
      }
    },
    {
      "cell_type": "code",
      "execution_count": 16,
      "metadata": {
        "colab": {
          "base_uri": "https://localhost:8080/"
        },
        "id": "tvypeIXB8z1H",
        "outputId": "5709abed-db74-42dd-bcde-b0ade2732390"
      },
      "outputs": [
        {
          "output_type": "stream",
          "name": "stdout",
          "text": [
            "Element at [1, 1, 0]: 7\n",
            "Sliced Array (first column of each 2x2 block):\n",
            "[[3 4]\n",
            " [7 8]]\n"
          ]
        }
      ],
      "source": [
        "\n",
        "\n",
        "#Example: Indexing and Slicing in 3D Arrays\n",
        "\n",
        "import numpy as np\n",
        "# Create a 3D NumPy array\n",
        "arr = np.array([[[1, 2], [3, 4]], [[5, 6], [7, 8]]])\n",
        "\n",
        "# Access a specific element\n",
        "print(f\"Element at [1, 1, 0]: {arr[1, 1, 0]}\")\n",
        "\n",
        "# Slice the array\n",
        "sliced_arr = arr[:, 1, :]\n",
        "print(f\"Sliced Array (first column of each 2x2 block):\\n{sliced_arr}\")"
      ]
    }
  ]
}
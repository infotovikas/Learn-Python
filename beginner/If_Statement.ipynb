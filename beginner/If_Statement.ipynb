{
  "nbformat": 4,
  "nbformat_minor": 0,
  "metadata": {
    "colab": {
      "provenance": [],
      "authorship_tag": "ABX9TyO8YVRxJnhQJg9H4NKxvVDf",
      "include_colab_link": true
    },
    "kernelspec": {
      "name": "python3",
      "display_name": "Python 3"
    },
    "language_info": {
      "name": "python"
    }
  },
  "cells": [
    {
      "cell_type": "markdown",
      "metadata": {
        "id": "view-in-github",
        "colab_type": "text"
      },
      "source": [
        "<a href=\"https://colab.research.google.com/github/infotovikas/Learn-Python/blob/main/beginner/If_Statement.ipynb\" target=\"_parent\"><img src=\"https://colab.research.google.com/assets/colab-badge.svg\" alt=\"Open In Colab\"/></a>"
      ]
    },
    {
      "cell_type": "code",
      "execution_count": 1,
      "metadata": {
        "id": "m-CVysG3BLV4"
      },
      "outputs": [],
      "source": [
        "#---- -2 ---- -1 ---- 0 ---- 1 ---- 2 ----"
      ]
    },
    {
      "cell_type": "code",
      "source": [
        "import numpy as np\n",
        "from numpy.random import randn"
      ],
      "metadata": {
        "id": "nTm02h_9B6Na"
      },
      "execution_count": 2,
      "outputs": []
    },
    {
      "cell_type": "code",
      "source": [
        "randn()"
      ],
      "metadata": {
        "colab": {
          "base_uri": "https://localhost:8080/"
        },
        "id": "fE6cV20XCgOA",
        "outputId": "badb2899-c54a-4eb0-b75f-77b712e0ed8e"
      },
      "execution_count": 5,
      "outputs": [
        {
          "output_type": "execute_result",
          "data": {
            "text/plain": [
              "0.7070466744687838"
            ]
          },
          "metadata": {},
          "execution_count": 5
        }
      ]
    },
    {
      "cell_type": "code",
      "source": [
        "#---- -2 ---- -1 ---- 0 ---- 1 ---- 2 ----\n",
        "answer = None\n",
        "x = randn()\n",
        "if x > 1:\n",
        "  answer = \"Greater than 1\"\n",
        "print(x)\n",
        "print(answer)\n"
      ],
      "metadata": {
        "colab": {
          "base_uri": "https://localhost:8080/"
        },
        "id": "2SzYqSN-DLHM",
        "outputId": "484077ae-9047-4b70-80bd-001e30a7e3aa"
      },
      "execution_count": 17,
      "outputs": [
        {
          "output_type": "stream",
          "name": "stdout",
          "text": [
            "-0.4173239225510748\n",
            "None\n"
          ]
        }
      ]
    },
    {
      "cell_type": "code",
      "source": [
        "#---- -2 ---- -1 ---- 0 ---- 1 ---- 2 ----\n",
        "answer = None\n",
        "x = randn()\n",
        "if x > 1:\n",
        "  answer = \"Greater than 1\"\n",
        "else:\n",
        "  answer = \"Less than 1\"\n",
        "print(x)\n",
        "print(answer)\n"
      ],
      "metadata": {
        "colab": {
          "base_uri": "https://localhost:8080/"
        },
        "id": "4WswATRPEX5H",
        "outputId": "3d2d023a-2eaf-47ab-9476-0a804afc24be"
      },
      "execution_count": 18,
      "outputs": [
        {
          "output_type": "stream",
          "name": "stdout",
          "text": [
            "-0.895849096348762\n",
            "Less than 1\n"
          ]
        }
      ]
    },
    {
      "cell_type": "code",
      "source": [
        "#---- -2 ---- -1 ---- 0 ---- 1 ---- 2 ----\n",
        "#Nested Statement\n",
        "\n",
        "answer = None\n",
        "x = randn()\n",
        "if x > 1:\n",
        "  answer = \"Greater than 1\"\n",
        "else:\n",
        "  if x >= -1:\n",
        "    answer = \"Between -1 and 1\"\n",
        "  else:\n",
        "    answer = \"Less than -1\"\n",
        "print(x)\n",
        "print(answer)\n"
      ],
      "metadata": {
        "colab": {
          "base_uri": "https://localhost:8080/"
        },
        "id": "FJbI2HECFH_d",
        "outputId": "3a3e7d0d-fa51-4ff3-cb5e-3d40f846011a"
      },
      "execution_count": 20,
      "outputs": [
        {
          "output_type": "stream",
          "name": "stdout",
          "text": [
            "0.4842594216707102\n",
            "Between -1 and 1\n"
          ]
        }
      ]
    },
    {
      "cell_type": "code",
      "source": [
        "#---- -2 ---- -1 ---- 0 ---- 1 ---- 2 ----\n",
        "#Chained Statement\n",
        "\n",
        "answer = None\n",
        "x = randn()\n",
        "if x > 1:\n",
        "  answer = \"Greater than 1\"\n",
        "elif x >= -1:\n",
        "    answer = \"Between -1 and 1\"\n",
        "else:\n",
        "    answer = \"Less than -1\"\n",
        "print(x)\n",
        "print(answer)\n"
      ],
      "metadata": {
        "colab": {
          "base_uri": "https://localhost:8080/"
        },
        "id": "_VWlwQAJGzo_",
        "outputId": "5b7c1b85-0317-4b4b-b2d7-e79e7953ca25"
      },
      "execution_count": 24,
      "outputs": [
        {
          "output_type": "stream",
          "name": "stdout",
          "text": [
            "0.1445084718327322\n",
            "Between -1 and 1\n"
          ]
        }
      ]
    }
  ]
}
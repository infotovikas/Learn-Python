{
  "nbformat": 4,
  "nbformat_minor": 0,
  "metadata": {
    "colab": {
      "provenance": [],
      "authorship_tag": "ABX9TyMEfbTtwa8EJ0PJ6G/h1fP+",
      "include_colab_link": true
    },
    "kernelspec": {
      "name": "python3",
      "display_name": "Python 3"
    },
    "language_info": {
      "name": "python"
    }
  },
  "cells": [
    {
      "cell_type": "markdown",
      "metadata": {
        "id": "view-in-github",
        "colab_type": "text"
      },
      "source": [
        "<a href=\"https://colab.research.google.com/github/infotovikas/Learn-Python/blob/main/beginner/If_Statement.ipynb\" target=\"_parent\"><img src=\"https://colab.research.google.com/assets/colab-badge.svg\" alt=\"Open In Colab\"/></a>"
      ]
    },
    {
      "cell_type": "code",
      "execution_count": 1,
      "metadata": {
        "id": "m-CVysG3BLV4"
      },
      "outputs": [],
      "source": [
        "#---- -2 ---- -1 ---- 0 ---- 1 ---- 2 ----"
      ]
    },
    {
      "cell_type": "code",
      "source": [
        "import numpy as np\n",
        "from numpy.random import randn"
      ],
      "metadata": {
        "id": "nTm02h_9B6Na"
      },
      "execution_count": 2,
      "outputs": []
    },
    {
      "cell_type": "code",
      "source": [
        "randn()"
      ],
      "metadata": {
        "colab": {
          "base_uri": "https://localhost:8080/"
        },
        "id": "fE6cV20XCgOA",
        "outputId": "badb2899-c54a-4eb0-b75f-77b712e0ed8e"
      },
      "execution_count": 5,
      "outputs": [
        {
          "output_type": "execute_result",
          "data": {
            "text/plain": [
              "0.7070466744687838"
            ]
          },
          "metadata": {},
          "execution_count": 5
        }
      ]
    },
    {
      "cell_type": "code",
      "source": [
        "#---- -2 ---- -1 ---- 0 ---- 1 ---- 2 ----\n",
        "answer = None\n",
        "x = randn()\n",
        "if x > 1:\n",
        "  answer = \"Greater than 1\"\n",
        "print(x)\n",
        "print(answer)\n"
      ],
      "metadata": {
        "colab": {
          "base_uri": "https://localhost:8080/"
        },
        "id": "2SzYqSN-DLHM",
        "outputId": "484077ae-9047-4b70-80bd-001e30a7e3aa"
      },
      "execution_count": 17,
      "outputs": [
        {
          "output_type": "stream",
          "name": "stdout",
          "text": [
            "-0.4173239225510748\n",
            "None\n"
          ]
        }
      ]
    },
    {
      "cell_type": "code",
      "source": [
        "#---- -2 ---- -1 ---- 0 ---- 1 ---- 2 ----\n",
        "answer = None\n",
        "x = randn()\n",
        "if x > 1:\n",
        "  answer = \"Greater than 1\"\n",
        "else:\n",
        "  answer = \"Less than 1\"\n",
        "print(x)\n",
        "print(answer)\n"
      ],
      "metadata": {
        "colab": {
          "base_uri": "https://localhost:8080/"
        },
        "id": "4WswATRPEX5H",
        "outputId": "3d2d023a-2eaf-47ab-9476-0a804afc24be"
      },
      "execution_count": 18,
      "outputs": [
        {
          "output_type": "stream",
          "name": "stdout",
          "text": [
            "-0.895849096348762\n",
            "Less than 1\n"
          ]
        }
      ]
    },
    {
      "cell_type": "code",
      "source": [
        "#---- -2 ---- -1 ---- 0 ---- 1 ---- 2 ----\n",
        "#Nested Statement\n",
        "\n",
        "answer = None\n",
        "x = randn()\n",
        "if x > 1:\n",
        "  answer = \"Greater than 1\"\n",
        "else:\n",
        "  if x >= -1:\n",
        "    answer = \"Between -1 and 1\"\n",
        "  else:\n",
        "    answer = \"Less than -1\"\n",
        "print(x)\n",
        "print(answer)\n"
      ],
      "metadata": {
        "colab": {
          "base_uri": "https://localhost:8080/"
        },
        "id": "FJbI2HECFH_d",
        "outputId": "3a3e7d0d-fa51-4ff3-cb5e-3d40f846011a"
      },
      "execution_count": 20,
      "outputs": [
        {
          "output_type": "stream",
          "name": "stdout",
          "text": [
            "0.4842594216707102\n",
            "Between -1 and 1\n"
          ]
        }
      ]
    },
    {
      "cell_type": "code",
      "source": [
        "#---- -2 ---- -1 ---- 0 ---- 1 ---- 2 ----\n",
        "#Chained Statement\n",
        "\n",
        "answer = None\n",
        "x = randn()\n",
        "if x > 1:\n",
        "  answer = \"Greater than 1\"\n",
        "elif x >= -1:\n",
        "    answer = \"Between -1 and 1\"\n",
        "else:\n",
        "    answer = \"Less than -1\"\n",
        "print(x)\n",
        "print(answer)\n"
      ],
      "metadata": {
        "colab": {
          "base_uri": "https://localhost:8080/"
        },
        "id": "_VWlwQAJGzo_",
        "outputId": "5b7c1b85-0317-4b4b-b2d7-e79e7953ca25"
      },
      "execution_count": 24,
      "outputs": [
        {
          "output_type": "stream",
          "name": "stdout",
          "text": [
            "0.1445084718327322\n",
            "Between -1 and 1\n"
          ]
        }
      ]
    },
    {
      "cell_type": "markdown",
      "source": [
        "**One-Liner if Statement**"
      ],
      "metadata": {
        "id": "mcffGkgduLAV"
      }
    },
    {
      "cell_type": "code",
      "source": [
        "# Use one-liner if statement to check a condition\n",
        "age = 20\n",
        "status = \"Adult\" if age >= 18 else \"Minor\"\n",
        "print(f\"Status: {status}\")\n"
      ],
      "metadata": {
        "colab": {
          "base_uri": "https://localhost:8080/"
        },
        "id": "KJBVChk4uPGr",
        "outputId": "561a59ec-02fe-4524-fb33-df53bb16e976"
      },
      "execution_count": 1,
      "outputs": [
        {
          "output_type": "stream",
          "name": "stdout",
          "text": [
            "Status: Adult\n"
          ]
        }
      ]
    },
    {
      "cell_type": "markdown",
      "source": [
        "**Checking Membership with if**"
      ],
      "metadata": {
        "id": "-j2AiXbYuhtK"
      }
    },
    {
      "cell_type": "code",
      "source": [
        "# Check if an element exists in a list\n",
        "fruits = [\"apple\", \"banana\", \"cherry\"]\n",
        "\n",
        "if \"banana\" in fruits:\n",
        "    print(\"Banana is in the list!\")\n",
        "else:\n",
        "    print(\"Banana is not in the list!\")\n"
      ],
      "metadata": {
        "colab": {
          "base_uri": "https://localhost:8080/"
        },
        "id": "5pzWSHxVujUh",
        "outputId": "b33865ba-c40c-428e-d1b7-9ed4ccdf4bba"
      },
      "execution_count": 2,
      "outputs": [
        {
          "output_type": "stream",
          "name": "stdout",
          "text": [
            "Banana is in the list!\n"
          ]
        }
      ]
    },
    {
      "cell_type": "markdown",
      "source": [
        "**Logical Operators in if**"
      ],
      "metadata": {
        "id": "6Bh0E0--uxhu"
      }
    },
    {
      "cell_type": "code",
      "source": [
        "# Using logical operators in if conditions\n",
        "age = 25\n",
        "income = 40000\n",
        "\n",
        "if age > 18 and income > 30000:\n",
        "    print(\"Eligible for a loan.\")\n",
        "else:\n",
        "    print(\"Not eligible for a loan.\")\n"
      ],
      "metadata": {
        "colab": {
          "base_uri": "https://localhost:8080/"
        },
        "id": "PX-XRrTtuzDq",
        "outputId": "69b321c9-761a-4cd2-eae9-7160d1173ff3"
      },
      "execution_count": 3,
      "outputs": [
        {
          "output_type": "stream",
          "name": "stdout",
          "text": [
            "Eligible for a loan.\n"
          ]
        }
      ]
    },
    {
      "cell_type": "markdown",
      "source": [
        "**Using if with Comparisons**"
      ],
      "metadata": {
        "id": "TcI5egohvKdG"
      }
    },
    {
      "cell_type": "code",
      "source": [
        "# Compare two numbers\n",
        "a = 15\n",
        "b = 10\n",
        "\n",
        "if a > b:\n",
        "    print(f\"{a} is greater than {b}.\")\n",
        "elif a == b:\n",
        "    print(f\"{a} is equal to {b}.\")\n",
        "else:\n",
        "    print(f\"{a} is less than {b}.\")\n"
      ],
      "metadata": {
        "colab": {
          "base_uri": "https://localhost:8080/"
        },
        "id": "ClBkq3_lvL4-",
        "outputId": "c4161a6d-bf3a-4bda-80a4-77f7dd41c9e5"
      },
      "execution_count": 4,
      "outputs": [
        {
          "output_type": "stream",
          "name": "stdout",
          "text": [
            "15 is greater than 10.\n"
          ]
        }
      ]
    },
    {
      "cell_type": "markdown",
      "source": [
        "**if with Strings**"
      ],
      "metadata": {
        "id": "c5Mw4XR6valH"
      }
    },
    {
      "cell_type": "code",
      "source": [
        "# Check if a string starts with a specific letter\n",
        "name = \"Alice\"\n",
        "\n",
        "if name.startswith(\"A\"):\n",
        "    print(f\"{name} starts with 'A'.\")\n",
        "else:\n",
        "    print(f\"{name} does not start with 'A'.\")\n"
      ],
      "metadata": {
        "colab": {
          "base_uri": "https://localhost:8080/"
        },
        "id": "BEjb_B9qvcyI",
        "outputId": "b147c482-64d4-4b8c-d5e4-bb536677a629"
      },
      "execution_count": 5,
      "outputs": [
        {
          "output_type": "stream",
          "name": "stdout",
          "text": [
            "Alice starts with 'A'.\n"
          ]
        }
      ]
    }
  ]
}
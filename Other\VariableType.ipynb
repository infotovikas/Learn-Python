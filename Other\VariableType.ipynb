{
  "nbformat": 4,
  "nbformat_minor": 0,
  "metadata": {
    "colab": {
      "provenance": [],
      "authorship_tag": "ABX9TyO5z2+jsIriyYHyZjRlgaRa",
      "include_colab_link": true
    },
    "kernelspec": {
      "name": "python3",
      "display_name": "Python 3"
    },
    "language_info": {
      "name": "python"
    }
  },
  "cells": [
    {
      "cell_type": "markdown",
      "metadata": {
        "id": "view-in-github",
        "colab_type": "text"
      },
      "source": [
        "<a href=\"https://colab.research.google.com/github/infotovikas/Learn-Python/blob/main/Other%5CVariableType.ipynb\" target=\"_parent\"><img src=\"https://colab.research.google.com/assets/colab-badge.svg\" alt=\"Open In Colab\"/></a>"
      ]
    },
    {
      "cell_type": "code",
      "execution_count": 2,
      "metadata": {
        "id": "HqBeBfaCODwP",
        "colab": {
          "base_uri": "https://localhost:8080/"
        },
        "outputId": "c0ad47b3-fa79-434d-bc02-e41b31c946a2"
      },
      "outputs": [
        {
          "output_type": "stream",
          "name": "stdout",
          "text": [
            "Age: 30 Type: <class 'int'>\n",
            "Height: 5.8 Type: <class 'float'>\n",
            "Name: Vikas Singh Type: <class 'str'>\n",
            "Is Student: False Type: <class 'bool'>\n",
            "Complex Number: (3+4j) Type: <class 'complex'>\n"
          ]
        }
      ],
      "source": [
        "# Variables and Data Types in Python\n",
        "\n",
        "# Integer\n",
        "age = 30\n",
        "print(\"Age:\", age, \"Type:\", type(age))\n",
        "\n",
        "# Float\n",
        "height = 5.8\n",
        "print(\"Height:\", height, \"Type:\", type(height))\n",
        "\n",
        "# String\n",
        "name = \"Vikas Singh\"\n",
        "print(\"Name:\", name, \"Type:\", type(name))\n",
        "\n",
        "# Boolean\n",
        "is_student = False\n",
        "print(\"Is Student:\", is_student, \"Type:\", type(is_student))\n",
        "\n",
        "# Complex Number\n",
        "complex_num = 3 + 4j\n",
        "print(\"Complex Number:\", complex_num, \"Type:\", type(complex_num))\n"
      ]
    }
  ]
}